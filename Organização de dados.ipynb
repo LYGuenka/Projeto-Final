{
 "cells": [
  {
   "cell_type": "markdown",
   "metadata": {},
   "source": [
    "# Importando as biblitecas"
   ]
  },
  {
   "cell_type": "code",
   "execution_count": 1,
   "metadata": {},
   "outputs": [],
   "source": [
    "import pandas as pd\n",
    "import re\n",
    "import numpy as np\n",
    "import folium"
   ]
  },
  {
   "cell_type": "markdown",
   "metadata": {},
   "source": [
    "# Lendo o arquivo de mortalidade"
   ]
  },
  {
   "cell_type": "code",
   "execution_count": 2,
   "metadata": {},
   "outputs": [
    {
     "name": "stderr",
     "output_type": "stream",
     "text": [
      "C:\\Users\\Leonardo\\anaconda3\\lib\\site-packages\\IPython\\core\\interactiveshell.py:3444: DtypeWarning: Columns (66) have mixed types.Specify dtype option on import or set low_memory=False.\n",
      "  exec(code_obj, self.user_global_ns, self.user_ns)\n"
     ]
    }
   ],
   "source": [
    "Mortalidade_2019 = pd.read_csv(r'C:\\Projeto Final\\data\\Mortalidade_Geral_2019.csv', sep = ';')"
   ]
  },
  {
   "cell_type": "markdown",
   "metadata": {},
   "source": [
    "# Estudando a tabela "
   ]
  },
  {
   "cell_type": "code",
   "execution_count": 3,
   "metadata": {},
   "outputs": [
    {
     "data": {
      "text/html": [
       "<div>\n",
       "<style scoped>\n",
       "    .dataframe tbody tr th:only-of-type {\n",
       "        vertical-align: middle;\n",
       "    }\n",
       "\n",
       "    .dataframe tbody tr th {\n",
       "        vertical-align: top;\n",
       "    }\n",
       "\n",
       "    .dataframe thead th {\n",
       "        text-align: right;\n",
       "    }\n",
       "</style>\n",
       "<table border=\"1\" class=\"dataframe\">\n",
       "  <thead>\n",
       "    <tr style=\"text-align: right;\">\n",
       "      <th></th>\n",
       "      <th>ORIGEM</th>\n",
       "      <th>TIPOBITO</th>\n",
       "      <th>DTOBITO</th>\n",
       "      <th>HORAOBITO</th>\n",
       "      <th>NATURAL</th>\n",
       "      <th>CODMUNNATU</th>\n",
       "      <th>DTNASC</th>\n",
       "      <th>IDADE</th>\n",
       "      <th>SEXO</th>\n",
       "      <th>RACACOR</th>\n",
       "      <th>...</th>\n",
       "      <th>DTCONINV</th>\n",
       "      <th>FONTES</th>\n",
       "      <th>TPRESGINFO</th>\n",
       "      <th>TPNIVELINV</th>\n",
       "      <th>NUDIASINF</th>\n",
       "      <th>DTCADINF</th>\n",
       "      <th>MORTEPARTO</th>\n",
       "      <th>DTCONCASO</th>\n",
       "      <th>FONTESINF</th>\n",
       "      <th>ALTCAUSA</th>\n",
       "    </tr>\n",
       "    <tr>\n",
       "      <th>CONTADOR</th>\n",
       "      <th></th>\n",
       "      <th></th>\n",
       "      <th></th>\n",
       "      <th></th>\n",
       "      <th></th>\n",
       "      <th></th>\n",
       "      <th></th>\n",
       "      <th></th>\n",
       "      <th></th>\n",
       "      <th></th>\n",
       "      <th></th>\n",
       "      <th></th>\n",
       "      <th></th>\n",
       "      <th></th>\n",
       "      <th></th>\n",
       "      <th></th>\n",
       "      <th></th>\n",
       "      <th></th>\n",
       "      <th></th>\n",
       "      <th></th>\n",
       "      <th></th>\n",
       "    </tr>\n",
       "  </thead>\n",
       "  <tbody>\n",
       "    <tr>\n",
       "      <th>1</th>\n",
       "      <td>1</td>\n",
       "      <td>2</td>\n",
       "      <td>21012019</td>\n",
       "      <td>540.0</td>\n",
       "      <td>829.0</td>\n",
       "      <td>290750.0</td>\n",
       "      <td>18021961.0</td>\n",
       "      <td>457</td>\n",
       "      <td>1</td>\n",
       "      <td>2.0</td>\n",
       "      <td>...</td>\n",
       "      <td>NaN</td>\n",
       "      <td>NaN</td>\n",
       "      <td>NaN</td>\n",
       "      <td>NaN</td>\n",
       "      <td>NaN</td>\n",
       "      <td>NaN</td>\n",
       "      <td>NaN</td>\n",
       "      <td>NaN</td>\n",
       "      <td>NaN</td>\n",
       "      <td>NaN</td>\n",
       "    </tr>\n",
       "    <tr>\n",
       "      <th>2</th>\n",
       "      <td>1</td>\n",
       "      <td>2</td>\n",
       "      <td>28012019</td>\n",
       "      <td>1630.0</td>\n",
       "      <td>829.0</td>\n",
       "      <td>290070.0</td>\n",
       "      <td>3071938.0</td>\n",
       "      <td>480</td>\n",
       "      <td>2</td>\n",
       "      <td>NaN</td>\n",
       "      <td>...</td>\n",
       "      <td>NaN</td>\n",
       "      <td>NaN</td>\n",
       "      <td>NaN</td>\n",
       "      <td>NaN</td>\n",
       "      <td>NaN</td>\n",
       "      <td>NaN</td>\n",
       "      <td>NaN</td>\n",
       "      <td>NaN</td>\n",
       "      <td>NaN</td>\n",
       "      <td>NaN</td>\n",
       "    </tr>\n",
       "    <tr>\n",
       "      <th>4</th>\n",
       "      <td>1</td>\n",
       "      <td>2</td>\n",
       "      <td>27012019</td>\n",
       "      <td>2320.0</td>\n",
       "      <td>829.0</td>\n",
       "      <td>290750.0</td>\n",
       "      <td>15111945.0</td>\n",
       "      <td>473</td>\n",
       "      <td>2</td>\n",
       "      <td>4.0</td>\n",
       "      <td>...</td>\n",
       "      <td>NaN</td>\n",
       "      <td>NaN</td>\n",
       "      <td>NaN</td>\n",
       "      <td>NaN</td>\n",
       "      <td>NaN</td>\n",
       "      <td>NaN</td>\n",
       "      <td>NaN</td>\n",
       "      <td>NaN</td>\n",
       "      <td>NaN</td>\n",
       "      <td>NaN</td>\n",
       "    </tr>\n",
       "    <tr>\n",
       "      <th>5</th>\n",
       "      <td>1</td>\n",
       "      <td>2</td>\n",
       "      <td>12012019</td>\n",
       "      <td>2300.0</td>\n",
       "      <td>829.0</td>\n",
       "      <td>290750.0</td>\n",
       "      <td>4111971.0</td>\n",
       "      <td>447</td>\n",
       "      <td>1</td>\n",
       "      <td>4.0</td>\n",
       "      <td>...</td>\n",
       "      <td>NaN</td>\n",
       "      <td>NaN</td>\n",
       "      <td>NaN</td>\n",
       "      <td>NaN</td>\n",
       "      <td>NaN</td>\n",
       "      <td>NaN</td>\n",
       "      <td>NaN</td>\n",
       "      <td>NaN</td>\n",
       "      <td>NaN</td>\n",
       "      <td>NaN</td>\n",
       "    </tr>\n",
       "    <tr>\n",
       "      <th>6</th>\n",
       "      <td>1</td>\n",
       "      <td>2</td>\n",
       "      <td>10012019</td>\n",
       "      <td>1726.0</td>\n",
       "      <td>829.0</td>\n",
       "      <td>292520.0</td>\n",
       "      <td>12101946.0</td>\n",
       "      <td>472</td>\n",
       "      <td>2</td>\n",
       "      <td>4.0</td>\n",
       "      <td>...</td>\n",
       "      <td>NaN</td>\n",
       "      <td>NaN</td>\n",
       "      <td>NaN</td>\n",
       "      <td>NaN</td>\n",
       "      <td>NaN</td>\n",
       "      <td>NaN</td>\n",
       "      <td>NaN</td>\n",
       "      <td>NaN</td>\n",
       "      <td>NaN</td>\n",
       "      <td>NaN</td>\n",
       "    </tr>\n",
       "    <tr>\n",
       "      <th>...</th>\n",
       "      <td>...</td>\n",
       "      <td>...</td>\n",
       "      <td>...</td>\n",
       "      <td>...</td>\n",
       "      <td>...</td>\n",
       "      <td>...</td>\n",
       "      <td>...</td>\n",
       "      <td>...</td>\n",
       "      <td>...</td>\n",
       "      <td>...</td>\n",
       "      <td>...</td>\n",
       "      <td>...</td>\n",
       "      <td>...</td>\n",
       "      <td>...</td>\n",
       "      <td>...</td>\n",
       "      <td>...</td>\n",
       "      <td>...</td>\n",
       "      <td>...</td>\n",
       "      <td>...</td>\n",
       "      <td>...</td>\n",
       "      <td>...</td>\n",
       "    </tr>\n",
       "    <tr>\n",
       "      <th>1378902</th>\n",
       "      <td>1</td>\n",
       "      <td>2</td>\n",
       "      <td>5082019</td>\n",
       "      <td>1750.0</td>\n",
       "      <td>813.0</td>\n",
       "      <td>130406.0</td>\n",
       "      <td>2021988.0</td>\n",
       "      <td>431</td>\n",
       "      <td>2</td>\n",
       "      <td>5.0</td>\n",
       "      <td>...</td>\n",
       "      <td>19082019.0</td>\n",
       "      <td>NaN</td>\n",
       "      <td>NaN</td>\n",
       "      <td>E</td>\n",
       "      <td>NaN</td>\n",
       "      <td>NaN</td>\n",
       "      <td>NaN</td>\n",
       "      <td>NaN</td>\n",
       "      <td>NaN</td>\n",
       "      <td>NaN</td>\n",
       "    </tr>\n",
       "    <tr>\n",
       "      <th>1378903</th>\n",
       "      <td>1</td>\n",
       "      <td>2</td>\n",
       "      <td>10102019</td>\n",
       "      <td>2230.0</td>\n",
       "      <td>812.0</td>\n",
       "      <td>120060.0</td>\n",
       "      <td>25121920.0</td>\n",
       "      <td>498</td>\n",
       "      <td>1</td>\n",
       "      <td>5.0</td>\n",
       "      <td>...</td>\n",
       "      <td>NaN</td>\n",
       "      <td>NaN</td>\n",
       "      <td>NaN</td>\n",
       "      <td>NaN</td>\n",
       "      <td>NaN</td>\n",
       "      <td>NaN</td>\n",
       "      <td>NaN</td>\n",
       "      <td>NaN</td>\n",
       "      <td>NaN</td>\n",
       "      <td>NaN</td>\n",
       "    </tr>\n",
       "    <tr>\n",
       "      <th>1378904</th>\n",
       "      <td>1</td>\n",
       "      <td>2</td>\n",
       "      <td>31052019</td>\n",
       "      <td>2000.0</td>\n",
       "      <td>816.0</td>\n",
       "      <td>160050.0</td>\n",
       "      <td>15011943.0</td>\n",
       "      <td>476</td>\n",
       "      <td>2</td>\n",
       "      <td>5.0</td>\n",
       "      <td>...</td>\n",
       "      <td>NaN</td>\n",
       "      <td>NaN</td>\n",
       "      <td>NaN</td>\n",
       "      <td>NaN</td>\n",
       "      <td>NaN</td>\n",
       "      <td>NaN</td>\n",
       "      <td>NaN</td>\n",
       "      <td>NaN</td>\n",
       "      <td>NaN</td>\n",
       "      <td>NaN</td>\n",
       "    </tr>\n",
       "    <tr>\n",
       "      <th>1378905</th>\n",
       "      <td>1</td>\n",
       "      <td>2</td>\n",
       "      <td>31082019</td>\n",
       "      <td>1530.0</td>\n",
       "      <td>813.0</td>\n",
       "      <td>130406.0</td>\n",
       "      <td>18051949.0</td>\n",
       "      <td>470</td>\n",
       "      <td>1</td>\n",
       "      <td>5.0</td>\n",
       "      <td>...</td>\n",
       "      <td>NaN</td>\n",
       "      <td>NaN</td>\n",
       "      <td>NaN</td>\n",
       "      <td>NaN</td>\n",
       "      <td>NaN</td>\n",
       "      <td>NaN</td>\n",
       "      <td>NaN</td>\n",
       "      <td>NaN</td>\n",
       "      <td>NaN</td>\n",
       "      <td>NaN</td>\n",
       "    </tr>\n",
       "    <tr>\n",
       "      <th>1378906</th>\n",
       "      <td>1</td>\n",
       "      <td>2</td>\n",
       "      <td>25092019</td>\n",
       "      <td>222.0</td>\n",
       "      <td>813.0</td>\n",
       "      <td>130406.0</td>\n",
       "      <td>6051950.0</td>\n",
       "      <td>469</td>\n",
       "      <td>1</td>\n",
       "      <td>5.0</td>\n",
       "      <td>...</td>\n",
       "      <td>NaN</td>\n",
       "      <td>NaN</td>\n",
       "      <td>NaN</td>\n",
       "      <td>NaN</td>\n",
       "      <td>NaN</td>\n",
       "      <td>NaN</td>\n",
       "      <td>NaN</td>\n",
       "      <td>NaN</td>\n",
       "      <td>NaN</td>\n",
       "      <td>NaN</td>\n",
       "    </tr>\n",
       "  </tbody>\n",
       "</table>\n",
       "<p>1349801 rows × 86 columns</p>\n",
       "</div>"
      ],
      "text/plain": [
       "          ORIGEM  TIPOBITO   DTOBITO  HORAOBITO  NATURAL  CODMUNNATU  \\\n",
       "CONTADOR                                                               \n",
       "1              1         2  21012019      540.0    829.0    290750.0   \n",
       "2              1         2  28012019     1630.0    829.0    290070.0   \n",
       "4              1         2  27012019     2320.0    829.0    290750.0   \n",
       "5              1         2  12012019     2300.0    829.0    290750.0   \n",
       "6              1         2  10012019     1726.0    829.0    292520.0   \n",
       "...          ...       ...       ...        ...      ...         ...   \n",
       "1378902        1         2   5082019     1750.0    813.0    130406.0   \n",
       "1378903        1         2  10102019     2230.0    812.0    120060.0   \n",
       "1378904        1         2  31052019     2000.0    816.0    160050.0   \n",
       "1378905        1         2  31082019     1530.0    813.0    130406.0   \n",
       "1378906        1         2  25092019      222.0    813.0    130406.0   \n",
       "\n",
       "              DTNASC  IDADE  SEXO  RACACOR  ...    DTCONINV  FONTES  \\\n",
       "CONTADOR                                    ...                       \n",
       "1         18021961.0    457     1      2.0  ...         NaN     NaN   \n",
       "2          3071938.0    480     2      NaN  ...         NaN     NaN   \n",
       "4         15111945.0    473     2      4.0  ...         NaN     NaN   \n",
       "5          4111971.0    447     1      4.0  ...         NaN     NaN   \n",
       "6         12101946.0    472     2      4.0  ...         NaN     NaN   \n",
       "...              ...    ...   ...      ...  ...         ...     ...   \n",
       "1378902    2021988.0    431     2      5.0  ...  19082019.0     NaN   \n",
       "1378903   25121920.0    498     1      5.0  ...         NaN     NaN   \n",
       "1378904   15011943.0    476     2      5.0  ...         NaN     NaN   \n",
       "1378905   18051949.0    470     1      5.0  ...         NaN     NaN   \n",
       "1378906    6051950.0    469     1      5.0  ...         NaN     NaN   \n",
       "\n",
       "          TPRESGINFO  TPNIVELINV  NUDIASINF  DTCADINF  MORTEPARTO  DTCONCASO  \\\n",
       "CONTADOR                                                                       \n",
       "1                NaN         NaN        NaN       NaN         NaN        NaN   \n",
       "2                NaN         NaN        NaN       NaN         NaN        NaN   \n",
       "4                NaN         NaN        NaN       NaN         NaN        NaN   \n",
       "5                NaN         NaN        NaN       NaN         NaN        NaN   \n",
       "6                NaN         NaN        NaN       NaN         NaN        NaN   \n",
       "...              ...         ...        ...       ...         ...        ...   \n",
       "1378902          NaN           E        NaN       NaN         NaN        NaN   \n",
       "1378903          NaN         NaN        NaN       NaN         NaN        NaN   \n",
       "1378904          NaN         NaN        NaN       NaN         NaN        NaN   \n",
       "1378905          NaN         NaN        NaN       NaN         NaN        NaN   \n",
       "1378906          NaN         NaN        NaN       NaN         NaN        NaN   \n",
       "\n",
       "          FONTESINF  ALTCAUSA  \n",
       "CONTADOR                       \n",
       "1               NaN       NaN  \n",
       "2               NaN       NaN  \n",
       "4               NaN       NaN  \n",
       "5               NaN       NaN  \n",
       "6               NaN       NaN  \n",
       "...             ...       ...  \n",
       "1378902         NaN       NaN  \n",
       "1378903         NaN       NaN  \n",
       "1378904         NaN       NaN  \n",
       "1378905         NaN       NaN  \n",
       "1378906         NaN       NaN  \n",
       "\n",
       "[1349801 rows x 86 columns]"
      ]
     },
     "execution_count": 3,
     "metadata": {},
     "output_type": "execute_result"
    }
   ],
   "source": [
    "Mortalidade_2019.set_index('CONTADOR')"
   ]
  },
  {
   "cell_type": "code",
   "execution_count": 4,
   "metadata": {},
   "outputs": [
    {
     "name": "stdout",
     "output_type": "stream",
     "text": [
      "<class 'pandas.core.frame.DataFrame'>\n",
      "RangeIndex: 1349801 entries, 0 to 1349800\n",
      "Data columns (total 87 columns):\n",
      " #   Column      Non-Null Count    Dtype  \n",
      "---  ------      --------------    -----  \n",
      " 0   ORIGEM      1349801 non-null  int64  \n",
      " 1   TIPOBITO    1349801 non-null  int64  \n",
      " 2   DTOBITO     1349801 non-null  int64  \n",
      " 3   HORAOBITO   1292455 non-null  float64\n",
      " 4   NATURAL     1276115 non-null  float64\n",
      " 5   CODMUNNATU  1257268 non-null  float64\n",
      " 6   DTNASC      1346010 non-null  float64\n",
      " 7   IDADE       1349801 non-null  int64  \n",
      " 8   SEXO        1349801 non-null  int64  \n",
      " 9   RACACOR     1315348 non-null  float64\n",
      " 10  ESTCIV      1274934 non-null  float64\n",
      " 11  ESC         1245231 non-null  float64\n",
      " 12  ESC2010     1239685 non-null  float64\n",
      " 13  SERIESCFAL  314749 non-null   float64\n",
      " 14  OCUP        1136322 non-null  float64\n",
      " 15  CODMUNRES   1349801 non-null  int64  \n",
      " 16  LOCOCOR     1349801 non-null  int64  \n",
      " 17  CODESTAB    991068 non-null   float64\n",
      " 18  ESTABDESCR  0 non-null        float64\n",
      " 19  CODMUNOCOR  1349801 non-null  int64  \n",
      " 20  IDADEMAE    31953 non-null    float64\n",
      " 21  ESCMAE      31602 non-null    float64\n",
      " 22  ESCMAE2010  31489 non-null    float64\n",
      " 23  SERIESCMAE  13062 non-null    float64\n",
      " 24  OCUPMAE     28431 non-null    float64\n",
      " 25  QTDFILVIVO  31657 non-null    float64\n",
      " 26  QTDFILMORT  30475 non-null    float64\n",
      " 27  GRAVIDEZ    32839 non-null    float64\n",
      " 28  SEMAGESTAC  30967 non-null    float64\n",
      " 29  GESTACAO    31063 non-null    float64\n",
      " 30  PARTO       32679 non-null    float64\n",
      " 31  OBITOPARTO  32383 non-null    float64\n",
      " 32  PESO        31513 non-null    float64\n",
      " 33  TPMORTEOCO  82927 non-null    float64\n",
      " 34  OBITOGRAV   83158 non-null    float64\n",
      " 35  OBITOPUERP  83153 non-null    float64\n",
      " 36  ASSISTMED   936420 non-null   float64\n",
      " 37  EXAME       1474 non-null     float64\n",
      " 38  CIRURGIA    1419 non-null     float64\n",
      " 39  NECROPSIA   958239 non-null   float64\n",
      " 40  LINHAA      1309201 non-null  object \n",
      " 41  LINHAB      1039466 non-null  object \n",
      " 42  LINHAC      646408 non-null   object \n",
      " 43  LINHAD      274401 non-null   object \n",
      " 44  LINHAII     490709 non-null   object \n",
      " 45  CAUSABAS    1349801 non-null  object \n",
      " 46  CB_PRE      0 non-null        float64\n",
      " 47  COMUNSVOIM  247915 non-null   float64\n",
      " 48  DTATESTADO  1340595 non-null  float64\n",
      " 49  CIRCOBITO   142523 non-null   float64\n",
      " 50  ACIDTRAB    44381 non-null    float64\n",
      " 51  FONTE       113222 non-null   float64\n",
      " 52  NUMEROLOTE  1349654 non-null  float64\n",
      " 53  TPPOS       866965 non-null   object \n",
      " 54  DTINVESTIG  193212 non-null   float64\n",
      " 55  CAUSABAS_O  1348914 non-null  object \n",
      " 56  DTCADASTRO  1346383 non-null  float64\n",
      " 57  ATESTANTE   1232218 non-null  float64\n",
      " 58  STCODIFICA  1349446 non-null  object \n",
      " 59  CODIFICADO  1349800 non-null  object \n",
      " 60  VERSAOSIST  1349800 non-null  object \n",
      " 61  VERSAOSCB   1292871 non-null  float64\n",
      " 62  FONTEINV    196450 non-null   float64\n",
      " 63  DTRECEBIM   1349655 non-null  float64\n",
      " 64  ATESTADO    1349799 non-null  object \n",
      " 65  DTRECORIGA  1349801 non-null  int64  \n",
      " 66  CAUSAMAT    29 non-null       object \n",
      " 67  ESCMAEAGR1  31489 non-null    float64\n",
      " 68  ESCFALAGR1  1239685 non-null  float64\n",
      " 69  STDOEPIDEM  1349800 non-null  float64\n",
      " 70  STDONOVA    1349801 non-null  int64  \n",
      " 71  DIFDATA     1349801 non-null  int64  \n",
      " 72  NUDIASOBCO  56370 non-null    float64\n",
      " 73  NUDIASOBIN  0 non-null        float64\n",
      " 74  DTCADINV    56754 non-null    float64\n",
      " 75  TPOBITOCOR  56754 non-null    float64\n",
      " 76  DTCONINV    56309 non-null    float64\n",
      " 77  FONTES      30738 non-null    object \n",
      " 78  TPRESGINFO  3121 non-null     float64\n",
      " 79  TPNIVELINV  56815 non-null    object \n",
      " 80  NUDIASINF   0 non-null        float64\n",
      " 81  DTCADINF    30738 non-null    float64\n",
      " 82  MORTEPARTO  30738 non-null    float64\n",
      " 83  DTCONCASO   28277 non-null    float64\n",
      " 84  FONTESINF   0 non-null        float64\n",
      " 85  ALTCAUSA    29564 non-null    float64\n",
      " 86  CONTADOR    1349801 non-null  int64  \n",
      "dtypes: float64(60), int64(12), object(15)\n",
      "memory usage: 895.9+ MB\n"
     ]
    }
   ],
   "source": [
    "Mortalidade_2019.info()"
   ]
  },
  {
   "cell_type": "code",
   "execution_count": 5,
   "metadata": {},
   "outputs": [
    {
     "data": {
      "text/plain": [
       "Index(['ORIGEM', 'TIPOBITO', 'DTOBITO', 'HORAOBITO', 'NATURAL', 'CODMUNNATU',\n",
       "       'DTNASC', 'IDADE', 'SEXO', 'RACACOR', 'ESTCIV', 'ESC', 'ESC2010',\n",
       "       'SERIESCFAL', 'OCUP', 'CODMUNRES', 'LOCOCOR', 'CODESTAB', 'ESTABDESCR',\n",
       "       'CODMUNOCOR', 'IDADEMAE', 'ESCMAE', 'ESCMAE2010', 'SERIESCMAE',\n",
       "       'OCUPMAE', 'QTDFILVIVO', 'QTDFILMORT', 'GRAVIDEZ', 'SEMAGESTAC',\n",
       "       'GESTACAO', 'PARTO', 'OBITOPARTO', 'PESO', 'TPMORTEOCO', 'OBITOGRAV',\n",
       "       'OBITOPUERP', 'ASSISTMED', 'EXAME', 'CIRURGIA', 'NECROPSIA', 'LINHAA',\n",
       "       'LINHAB', 'LINHAC', 'LINHAD', 'LINHAII', 'CAUSABAS', 'CB_PRE',\n",
       "       'COMUNSVOIM', 'DTATESTADO', 'CIRCOBITO', 'ACIDTRAB', 'FONTE',\n",
       "       'NUMEROLOTE', 'TPPOS', 'DTINVESTIG', 'CAUSABAS_O', 'DTCADASTRO',\n",
       "       'ATESTANTE', 'STCODIFICA', 'CODIFICADO', 'VERSAOSIST', 'VERSAOSCB',\n",
       "       'FONTEINV', 'DTRECEBIM', 'ATESTADO', 'DTRECORIGA', 'CAUSAMAT',\n",
       "       'ESCMAEAGR1', 'ESCFALAGR1', 'STDOEPIDEM', 'STDONOVA', 'DIFDATA',\n",
       "       'NUDIASOBCO', 'NUDIASOBIN', 'DTCADINV', 'TPOBITOCOR', 'DTCONINV',\n",
       "       'FONTES', 'TPRESGINFO', 'TPNIVELINV', 'NUDIASINF', 'DTCADINF',\n",
       "       'MORTEPARTO', 'DTCONCASO', 'FONTESINF', 'ALTCAUSA', 'CONTADOR'],\n",
       "      dtype='object')"
      ]
     },
     "execution_count": 5,
     "metadata": {},
     "output_type": "execute_result"
    }
   ],
   "source": [
    "Mortalidade_2019.columns"
   ]
  },
  {
   "cell_type": "markdown",
   "metadata": {},
   "source": [
    "# Fazendo Verificação e Limpeza da Tabela"
   ]
  },
  {
   "cell_type": "code",
   "execution_count": 6,
   "metadata": {},
   "outputs": [],
   "source": [
    "Mortalidade_2019 = Mortalidade_2019.loc[:,['DTOBITO', 'CODMUNOCOR', 'DTNASC', 'IDADE', 'SEXO', 'RACACOR', 'CAUSABAS']]"
   ]
  },
  {
   "cell_type": "markdown",
   "metadata": {},
   "source": [
    "Vendo os gêneros que mais sofreram com as mortes"
   ]
  },
  {
   "cell_type": "code",
   "execution_count": 7,
   "metadata": {},
   "outputs": [
    {
     "data": {
      "text/plain": [
       "1    745519\n",
       "2    603725\n",
       "0       557\n",
       "Name: SEXO, dtype: int64"
      ]
     },
     "execution_count": 7,
     "metadata": {},
     "output_type": "execute_result"
    }
   ],
   "source": [
    "Mortalidade_2019['SEXO'].value_counts()"
   ]
  },
  {
   "cell_type": "code",
   "execution_count": 8,
   "metadata": {},
   "outputs": [],
   "source": [
    "#Ao verificar que o Sexo que está igual a 1 possui maior valor, pode-se confirmar que são os homens, pois ao pesquisar sobre a mortalidade de gêneros, os homens são os que mais sofrem mortes"
   ]
  },
  {
   "cell_type": "markdown",
   "metadata": {},
   "source": [
    "Corrigindo a coluna de idade"
   ]
  },
  {
   "cell_type": "code",
   "execution_count": 9,
   "metadata": {},
   "outputs": [],
   "source": [
    "Mortalidade_2019['IDADE'] = Mortalidade_2019['IDADE'].astype(str)\n",
    "\n",
    "def limpeza_idade(linha):\n",
    "    x = linha['IDADE']\n",
    "    if linha['DTOBITO']  == linha['DTNASC'] or linha['DTOBITO'] == linha['DTNASC']+1:\n",
    "        return 0\n",
    "\n",
    "    elif x.startswith('5') and len(x) == 3:\n",
    "        x_new_5 = x.replace('5', '1', 1)\n",
    "        x_new_5 = float(x)\n",
    "        return x_new_5\n",
    "\n",
    "    elif x.startswith('4') and (len(x) == 3 or len(x) == 2):\n",
    "        x_new_4 = float(x[1:])\n",
    "        return x_new_4\n",
    "\n",
    "    elif x.startswith('3') and (len(x) == 3 or len(x) == 2):\n",
    "        x_new_3 = float(x[1:])\n",
    "        x_new_3 = (x_new_3 * 833334)/100\n",
    "        return x_new_3\n",
    "\n",
    "    elif x.startswith('2') and (len(x) == 3 or len(x) == 2):\n",
    "        x_new_2 = float(x[1:])\n",
    "        x_new_2 = (x_new_2 * 114155)/10000\n",
    "        return x_new_2\n",
    "\n",
    "    elif x.startswith('1') and (len(x) == 3 or len(x) == 2):\n",
    "        x_new_1 = float(x[1:])\n",
    "        x_new_1 = (x_new_1 * 1.90259)/1000000\n",
    "        return x_new_1\n",
    "\n",
    "Mortalidade_2019['IDADE'] = Mortalidade_2019.apply(limpeza_idade, axis = 1)"
   ]
  },
  {
   "cell_type": "markdown",
   "metadata": {},
   "source": [
    "Mudando o formato das datas da coluna de óbito e nascimento"
   ]
  },
  {
   "cell_type": "code",
   "execution_count": 10,
   "metadata": {},
   "outputs": [],
   "source": [
    "Mortalidade_2019['DTOBITO'] = Mortalidade_2019['DTOBITO'].astype(str).str.zfill(8)                          # deixa todas as linhas com 8 números, alem de transformar em str\n",
    "Mortalidade_2019['DTOBITO'] = Mortalidade_2019['DTOBITO'].apply(lambda x: f'{x[0:2]}/{x[2:4]}/{x[4:]}')     # aplica '/' em todas as datas\n",
    "Mortalidade_2019['DTOBITO'] = pd.to_datetime(Mortalidade_2019['DTOBITO'])                                   # transforma em datetime"
   ]
  },
  {
   "cell_type": "code",
   "execution_count": 11,
   "metadata": {},
   "outputs": [],
   "source": [
    "Mortalidade_2019['DTNASC'] = Mortalidade_2019['DTNASC'].fillna(0)                      #transforma nulo em zeros\n",
    "Mortalidade_2019['DTNASC'] = pd.to_datetime(Mortalidade_2019['DTNASC']).dt.date        #transforma em data\n",
    "Mortalidade_2019['DTNASC'] = pd.to_datetime(Mortalidade_2019['DTNASC'])"
   ]
  },
  {
   "cell_type": "markdown",
   "metadata": {},
   "source": [
    "Arrumando a coluna de Causas e classificando cada uma das siglas "
   ]
  },
  {
   "cell_type": "code",
   "execution_count": 12,
   "metadata": {},
   "outputs": [],
   "source": [
    "Mortalidade_2019['CAUSABAS'] = Mortalidade_2019['CAUSABAS'].apply(lambda x: f'{x[0:3]}')"
   ]
  },
  {
   "cell_type": "code",
   "execution_count": 13,
   "metadata": {},
   "outputs": [],
   "source": [
    "Mortalidade_2019['Classificação de causas'] = Mortalidade_2019['CAUSABAS']"
   ]
  },
  {
   "cell_type": "markdown",
   "metadata": {},
   "source": [
    "Classificação de causas (coluna CAUSABAS)\n",
    "\n",
    "    - A00 ~ E99 --> doenças\n",
    "\n",
    "    - F00       --> Transtornos Mentais\n",
    "\n",
    "    - G00 ~ N99 --> doenças\n",
    "\n",
    "    - O00 ~ Q99 --> problemas na gestão/Parto e malformações\n",
    "\n",
    "    - R00       --> doenças\n",
    "\n",
    "    - S00 ~ T98 --> Consequências de causas externas (lesões/ traumatismos)\n",
    "\n",
    "    - U00 ~ Y98 --> Causas externas de morbidade e de mortalidade (acidente/agressao/intoxicação/falta de comida/falta de agua/queda/tiro)\n",
    "\n",
    "    - Z00 ~     --> doenças"
   ]
  },
  {
   "cell_type": "code",
   "execution_count": 14,
   "metadata": {},
   "outputs": [
    {
     "name": "stderr",
     "output_type": "stream",
     "text": [
      "C:\\Users\\Leonardo\\AppData\\Local\\Temp/ipykernel_6892/1318979736.py:1: FutureWarning: The default value of regex will change from True to False in a future version.\n",
      "  Mortalidade_2019['Classificação de causas'] = Mortalidade_2019['Classificação de causas'].str.replace('[A-E].*', 'Doença')\n",
      "C:\\Users\\Leonardo\\AppData\\Local\\Temp/ipykernel_6892/1318979736.py:2: FutureWarning: The default value of regex will change from True to False in a future version.\n",
      "  Mortalidade_2019['Classificação de causas'] = Mortalidade_2019['Classificação de causas'].str.replace('F.*', 'Transtornos Mentais')\n",
      "C:\\Users\\Leonardo\\AppData\\Local\\Temp/ipykernel_6892/1318979736.py:3: FutureWarning: The default value of regex will change from True to False in a future version.\n",
      "  Mortalidade_2019['Classificação de causas'] = Mortalidade_2019['Classificação de causas'].str.replace('[G-N].*', 'Doença')\n",
      "C:\\Users\\Leonardo\\AppData\\Local\\Temp/ipykernel_6892/1318979736.py:4: FutureWarning: The default value of regex will change from True to False in a future version.\n",
      "  Mortalidade_2019['Classificação de causas'] = Mortalidade_2019['Classificação de causas'].str.replace('[O-Q].*', 'problemas na gestão/Parto e malformações')\n",
      "C:\\Users\\Leonardo\\AppData\\Local\\Temp/ipykernel_6892/1318979736.py:5: FutureWarning: The default value of regex will change from True to False in a future version.\n",
      "  Mortalidade_2019['Classificação de causas'] = Mortalidade_2019['Classificação de causas'].str.replace('R.*', 'Doença')\n",
      "C:\\Users\\Leonardo\\AppData\\Local\\Temp/ipykernel_6892/1318979736.py:6: FutureWarning: The default value of regex will change from True to False in a future version.\n",
      "  Mortalidade_2019['Classificação de causas'] = Mortalidade_2019['Classificação de causas'].str.replace('[S-T].*', 'Consequências de causas externas (lesões/ traumatismos)')\n",
      "C:\\Users\\Leonardo\\AppData\\Local\\Temp/ipykernel_6892/1318979736.py:7: FutureWarning: The default value of regex will change from True to False in a future version.\n",
      "  Mortalidade_2019['Classificação de causas'] = Mortalidade_2019['Classificação de causas'].str.replace('[U-Y].*', 'Causas externas de morbidade e de mortalidade (acidente/agressao)')\n",
      "C:\\Users\\Leonardo\\AppData\\Local\\Temp/ipykernel_6892/1318979736.py:8: FutureWarning: The default value of regex will change from True to False in a future version.\n",
      "  Mortalidade_2019['Classificação de causas'] = Mortalidade_2019['Classificação de causas'].str.replace('Z.*', 'Doença')\n"
     ]
    }
   ],
   "source": [
    "Mortalidade_2019['Classificação de causas'] = Mortalidade_2019['Classificação de causas'].str.replace('[A-E].*', 'Doença')\n",
    "Mortalidade_2019['Classificação de causas'] = Mortalidade_2019['Classificação de causas'].str.replace('F.*', 'Transtornos Mentais')\n",
    "Mortalidade_2019['Classificação de causas'] = Mortalidade_2019['Classificação de causas'].str.replace('[G-N].*', 'Doença')\n",
    "Mortalidade_2019['Classificação de causas'] = Mortalidade_2019['Classificação de causas'].str.replace('[O-Q].*', 'problemas na gestão/Parto e malformações')\n",
    "Mortalidade_2019['Classificação de causas'] = Mortalidade_2019['Classificação de causas'].str.replace('R.*', 'Doença')\n",
    "Mortalidade_2019['Classificação de causas'] = Mortalidade_2019['Classificação de causas'].str.replace('[S-T].*', 'Consequências de causas externas (lesões/ traumatismos)')\n",
    "Mortalidade_2019['Classificação de causas'] = Mortalidade_2019['Classificação de causas'].str.replace('[U-Y].*', 'Causas externas de morbidade e de mortalidade (acidente/agressao)')\n",
    "Mortalidade_2019['Classificação de causas'] = Mortalidade_2019['Classificação de causas'].str.replace('Z.*', 'Doença')"
   ]
  },
  {
   "cell_type": "markdown",
   "metadata": {},
   "source": [
    "# Lendo arquivo CID para juntar as tabelas de CID e Mortalidade"
   ]
  },
  {
   "cell_type": "code",
   "execution_count": 15,
   "metadata": {},
   "outputs": [],
   "source": [
    "CID_2019 = pd.read_excel(r'C:\\Projeto Final\\data\\CID_2019.xlsx', header=15, skipfooter=8)"
   ]
  },
  {
   "cell_type": "markdown",
   "metadata": {},
   "source": [
    "# Fazendo o tratamento do arquivo CID"
   ]
  },
  {
   "cell_type": "code",
   "execution_count": 16,
   "metadata": {},
   "outputs": [],
   "source": [
    "CID_2019['Total'] = CID_2019['Total'].apply(lambda x: f'{x[0:3]}')\n",
    "CID_2019 = CID_2019.loc[:,['Total']]\n",
    "CID_2019  = CID_2019.drop(CID_2019.loc[CID_2019['Total']=='Cap'].index)\n",
    "CID_2019['Classificação de causas'] = CID_2019['Total']"
   ]
  },
  {
   "cell_type": "markdown",
   "metadata": {},
   "source": [
    "Classificação de causas (coluna CAUSABAS)\n",
    "\n",
    "    - A00 ~ E99 --> doenças\n",
    "\n",
    "    - F00       --> Transtornos Mentais\n",
    "\n",
    "    - G00 ~ N99 --> doenças\n",
    "\n",
    "    - O00 ~ Q99 --> problemas na gestão/Parto e malformações\n",
    "\n",
    "    - R00       --> doenças\n",
    "\n",
    "    - S00 ~ T98 --> Consequências de causas externas (lesões/ traumatismos)\n",
    "\n",
    "    - U00 ~ Y98 --> Causas externas de morbidade e de mortalidade (acidente/agressao/intoxicação/falta de comida/falta de agua/queda/tiro)\n",
    "\n",
    "    - Z00 ~     --> doenças"
   ]
  },
  {
   "cell_type": "code",
   "execution_count": 17,
   "metadata": {},
   "outputs": [
    {
     "name": "stderr",
     "output_type": "stream",
     "text": [
      "C:\\Users\\Leonardo\\AppData\\Local\\Temp/ipykernel_6892/4078995205.py:1: FutureWarning: The default value of regex will change from True to False in a future version.\n",
      "  CID_2019['Classificação de causas'] = CID_2019['Classificação de causas'].str.replace('[A-E].*', 'Doença')\n",
      "C:\\Users\\Leonardo\\AppData\\Local\\Temp/ipykernel_6892/4078995205.py:2: FutureWarning: The default value of regex will change from True to False in a future version.\n",
      "  CID_2019['Classificação de causas'] = CID_2019['Classificação de causas'].str.replace('F.*', 'Transtornos Mentais')\n",
      "C:\\Users\\Leonardo\\AppData\\Local\\Temp/ipykernel_6892/4078995205.py:3: FutureWarning: The default value of regex will change from True to False in a future version.\n",
      "  CID_2019['Classificação de causas'] = CID_2019['Classificação de causas'].str.replace('[G-N].*', 'Doença')\n",
      "C:\\Users\\Leonardo\\AppData\\Local\\Temp/ipykernel_6892/4078995205.py:4: FutureWarning: The default value of regex will change from True to False in a future version.\n",
      "  CID_2019['Classificação de causas'] = CID_2019['Classificação de causas'].str.replace('[O-Q].*', 'problemas na gestão/Parto e malformações')\n",
      "C:\\Users\\Leonardo\\AppData\\Local\\Temp/ipykernel_6892/4078995205.py:5: FutureWarning: The default value of regex will change from True to False in a future version.\n",
      "  CID_2019['Classificação de causas'] = CID_2019['Classificação de causas'].str.replace('R.*', 'Doença')\n",
      "C:\\Users\\Leonardo\\AppData\\Local\\Temp/ipykernel_6892/4078995205.py:6: FutureWarning: The default value of regex will change from True to False in a future version.\n",
      "  CID_2019['Classificação de causas'] = CID_2019['Classificação de causas'].str.replace('[S-T].*', 'Consequências de causas externas (lesões/ traumatismos)')\n",
      "C:\\Users\\Leonardo\\AppData\\Local\\Temp/ipykernel_6892/4078995205.py:7: FutureWarning: The default value of regex will change from True to False in a future version.\n",
      "  CID_2019['Classificação de causas'] = CID_2019['Classificação de causas'].str.replace('[U-Y].*', 'Causas externas de morbidade e de mortalidade (acidente/agressao)')\n",
      "C:\\Users\\Leonardo\\AppData\\Local\\Temp/ipykernel_6892/4078995205.py:8: FutureWarning: The default value of regex will change from True to False in a future version.\n",
      "  CID_2019['Classificação de causas'] = CID_2019['Classificação de causas'].str.replace('Z.*', 'Doença')\n"
     ]
    }
   ],
   "source": [
    "CID_2019['Classificação de causas'] = CID_2019['Classificação de causas'].str.replace('[A-E].*', 'Doença')\n",
    "CID_2019['Classificação de causas'] = CID_2019['Classificação de causas'].str.replace('F.*', 'Transtornos Mentais')\n",
    "CID_2019['Classificação de causas'] = CID_2019['Classificação de causas'].str.replace('[G-N].*', 'Doença')\n",
    "CID_2019['Classificação de causas'] = CID_2019['Classificação de causas'].str.replace('[O-Q].*', 'problemas na gestão/Parto e malformações')\n",
    "CID_2019['Classificação de causas'] = CID_2019['Classificação de causas'].str.replace('R.*', 'Doença')\n",
    "CID_2019['Classificação de causas'] = CID_2019['Classificação de causas'].str.replace('[S-T].*', 'Consequências de causas externas (lesões/ traumatismos)')\n",
    "CID_2019['Classificação de causas'] = CID_2019['Classificação de causas'].str.replace('[U-Y].*', 'Causas externas de morbidade e de mortalidade (acidente/agressao)')\n",
    "CID_2019['Classificação de causas'] = CID_2019['Classificação de causas'].str.replace('Z.*', 'Doença')"
   ]
  },
  {
   "cell_type": "markdown",
   "metadata": {},
   "source": [
    "# Lendo Arquivo de Municípios para juntar com a tabela de mortalidade"
   ]
  },
  {
   "cell_type": "code",
   "execution_count": 18,
   "metadata": {},
   "outputs": [],
   "source": [
    "Município_estabelecimento = pd.read_csv(r'C:\\Projeto Final\\data\\cadastro_estabelecimentos_cnes.csv', sep = ';')"
   ]
  },
  {
   "cell_type": "code",
   "execution_count": 19,
   "metadata": {},
   "outputs": [],
   "source": [
    "Município_estabelecimento = Município_estabelecimento.loc[:,['UF', 'IBGE']]"
   ]
  },
  {
   "cell_type": "code",
   "execution_count": 20,
   "metadata": {},
   "outputs": [],
   "source": [
    "Município_estabelecimento = Município_estabelecimento.drop_duplicates()"
   ]
  },
  {
   "cell_type": "markdown",
   "metadata": {},
   "source": [
    "juntando as tabelas"
   ]
  },
  {
   "cell_type": "code",
   "execution_count": 21,
   "metadata": {},
   "outputs": [],
   "source": [
    "Mortalidade_Municípios_2019 = pd.merge(Mortalidade_2019, Município_estabelecimento, left_on = 'CODMUNOCOR', right_on ='IBGE')"
   ]
  },
  {
   "cell_type": "markdown",
   "metadata": {},
   "source": [
    "# Lendo Arquivo de Estados para juntar na tabela"
   ]
  },
  {
   "cell_type": "code",
   "execution_count": 22,
   "metadata": {},
   "outputs": [],
   "source": [
    "COD_UF = pd.read_excel(r'C:\\Projeto Final\\data\\Tabela Estados IBGE.xlsx')"
   ]
  },
  {
   "cell_type": "markdown",
   "metadata": {},
   "source": [
    "# Finalização da tabela limpa e verificada"
   ]
  },
  {
   "cell_type": "code",
   "execution_count": 23,
   "metadata": {},
   "outputs": [],
   "source": [
    "Mortalidade_Estado_2019 = pd.merge(Mortalidade_Municípios_2019, COD_UF, left_on = 'UF', right_on ='Código da UF')"
   ]
  },
  {
   "cell_type": "code",
   "execution_count": 24,
   "metadata": {},
   "outputs": [],
   "source": [
    "Mortalidade_Estado_2019 = Mortalidade_Estado_2019.loc[:, ['DTOBITO', 'CODMUNOCOR', 'DTNASC', 'IDADE', 'SEXO', 'RACACOR', 'CAUSABAS', 'Classificação de causas', 'Estado']]"
   ]
  },
  {
   "cell_type": "code",
   "execution_count": 25,
   "metadata": {},
   "outputs": [],
   "source": [
    "Mortalidade_Estado_2019.to_csv(r'C:\\Projeto Final\\data\\Mortalidade_Estado_2019.csv', sep = ';')"
   ]
  }
 ],
 "metadata": {
  "interpreter": {
   "hash": "df0c761d1085a0714814de565803b55566ff6ed3425e378fe1584d694fe7171e"
  },
  "kernelspec": {
   "display_name": "Python 3.9.7 ('base')",
   "language": "python",
   "name": "python3"
  },
  "language_info": {
   "codemirror_mode": {
    "name": "ipython",
    "version": 3
   },
   "file_extension": ".py",
   "mimetype": "text/x-python",
   "name": "python",
   "nbconvert_exporter": "python",
   "pygments_lexer": "ipython3",
   "version": "3.9.7"
  },
  "orig_nbformat": 4
 },
 "nbformat": 4,
 "nbformat_minor": 2
}
