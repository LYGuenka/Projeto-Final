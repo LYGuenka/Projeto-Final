{
 "cells": [
  {
   "cell_type": "markdown",
   "metadata": {},
   "source": [
    "# Importando as biblitecas"
   ]
  },
  {
   "cell_type": "code",
   "execution_count": null,
   "metadata": {},
   "outputs": [],
   "source": [
    "import pandas as pd\n",
    "import re\n",
    "import numpy as np"
   ]
  },
  {
   "cell_type": "markdown",
   "metadata": {},
   "source": [
    "# Lendo o arquivo de mortalidade"
   ]
  },
  {
   "cell_type": "code",
   "execution_count": null,
   "metadata": {},
   "outputs": [],
   "source": [
    "Mortalidade_2019 = pd.read_csv(r'C:\\Projeto Final\\data\\Mortalidade_Geral_2019.csv', sep = ';')"
   ]
  },
  {
   "cell_type": "markdown",
   "metadata": {},
   "source": [
    "# Estudando a tabela "
   ]
  },
  {
   "cell_type": "code",
   "execution_count": null,
   "metadata": {},
   "outputs": [],
   "source": [
    "Mortalidade_2019.head()"
   ]
  },
  {
   "cell_type": "code",
   "execution_count": null,
   "metadata": {},
   "outputs": [],
   "source": [
    "Mortalidade_2019.info()"
   ]
  },
  {
   "cell_type": "code",
   "execution_count": null,
   "metadata": {},
   "outputs": [],
   "source": [
    "Mortalidade_2019.columns"
   ]
  },
  {
   "cell_type": "markdown",
   "metadata": {},
   "source": [
    "# Fazendo Verificação e Limpeza da Tabela"
   ]
  },
  {
   "cell_type": "code",
   "execution_count": null,
   "metadata": {},
   "outputs": [],
   "source": [
    "Mortalidade_2019 = Mortalidade_2019.loc[:,['DTOBITO', 'CODMUNOCOR', 'DTNASC', 'IDADE', 'SEXO', 'RACACOR', 'CAUSABAS']]"
   ]
  },
  {
   "cell_type": "markdown",
   "metadata": {},
   "source": [
    "Vendo os gêneros que mais sofreram com as mortes"
   ]
  },
  {
   "cell_type": "code",
   "execution_count": null,
   "metadata": {},
   "outputs": [],
   "source": [
    "Mortalidade_2019['SEXO'].value_counts()"
   ]
  },
  {
   "cell_type": "code",
   "execution_count": null,
   "metadata": {},
   "outputs": [],
   "source": [
    "#Ao verificar que o Sexo que está igual a 1 possui maior valor, pode-se confirmar que são os homens, pois ao pesquisar sobre a mortalidade de gêneros, os homens são os que mais sofrem mortes"
   ]
  },
  {
   "cell_type": "markdown",
   "metadata": {},
   "source": [
    "Corrigindo a coluna de idade"
   ]
  },
  {
   "cell_type": "code",
   "execution_count": null,
   "metadata": {},
   "outputs": [],
   "source": [
    "Mortalidade_2019['IDADE'] = Mortalidade_2019['IDADE'].astype(str)\n",
    "\n",
    "def limpeza_idade(linha):\n",
    "    x = linha['IDADE']\n",
    "    if linha['DTOBITO']  == linha['DTNASC'] or linha['DTOBITO'] == linha['DTNASC']+1:\n",
    "        return 0\n",
    "\n",
    "    elif x.startswith('5') and len(x) == 3:\n",
    "        x_new_5 = x.replace('5', '1', 1)\n",
    "        x_new_5 = float(x)\n",
    "        return x_new_5\n",
    "\n",
    "    elif x.startswith('4') and len(x) == 3:\n",
    "        x_new_4 = float(x[1:])\n",
    "        return x_new_4\n",
    "\n",
    "    elif x.startswith('3') and len(x) == 3 or len(x) == 2:\n",
    "        x_new_3 = float(x[1:])\n",
    "        x_new_3 = (x_new_3 * 833334/100)\n",
    "        return x_new_3\n",
    "\n",
    "    elif x.startswith('2') and len(x) == 3 or len(x) == 2:\n",
    "        x_new_2 = float(x[1:])\n",
    "        x_new_2 = (x_new_2 * 114155/10000)\n",
    "        return x_new_2\n",
    "\n",
    "    elif x.startswith('1') and len(x) == 3 or len(x) == 2:\n",
    "        x_new_1 = float(x[1:])\n",
    "        x_new_1 = (x_new_1 * 1.90259/1000000)\n",
    "        return x_new_1\n",
    "\n",
    "Mortalidade_2019['IDADE'] = Mortalidade_2019.apply(limpeza_idade, axis = 1)"
   ]
  },
  {
   "cell_type": "markdown",
   "metadata": {},
   "source": [
    "Mudando o formato das datas da coluna de óbito e nascimento"
   ]
  },
  {
   "cell_type": "code",
   "execution_count": null,
   "metadata": {},
   "outputs": [],
   "source": [
    "Mortalidade_2019['DTOBITO'] = Mortalidade_2019['DTOBITO'].astype(str).str.zfill(8)                          # deixa todas as linhas com 8 números, alem de transformar em str\n",
    "Mortalidade_2019['DTOBITO'] = Mortalidade_2019['DTOBITO'].apply(lambda x: f'{x[0:2]}/{x[2:4]}/{x[4:]}')     # aplica '/' em todas as datas\n",
    "Mortalidade_2019['DTOBITO'] = pd.to_datetime(Mortalidade_2019['DTOBITO'])                                   # transforma em datetime"
   ]
  },
  {
   "cell_type": "code",
   "execution_count": null,
   "metadata": {},
   "outputs": [],
   "source": [
    "Mortalidade_2019['DTNASC'] = Mortalidade_2019['DTNASC'].fillna(0)                      #transforma nulo em zeros\n",
    "Mortalidade_2019['DTNASC'] = pd.to_datetime(Mortalidade_2019['DTNASC']).dt.date        #transforma em data\n",
    "Mortalidade_2019['DTNASC'] = pd.to_datetime(Mortalidade_2019['DTNASC'])"
   ]
  },
  {
   "cell_type": "markdown",
   "metadata": {},
   "source": [
    "Arrumando a coluna de Causas e classificando cada uma das siglas "
   ]
  },
  {
   "cell_type": "code",
   "execution_count": null,
   "metadata": {},
   "outputs": [],
   "source": [
    "Mortalidade_2019['CAUSABAS'] = Mortalidade_2019['CAUSABAS'].apply(lambda x: f'{x[0:3]}')"
   ]
  },
  {
   "cell_type": "code",
   "execution_count": null,
   "metadata": {},
   "outputs": [],
   "source": [
    "Mortalidade_2019['Classificação de causas'] = Mortalidade_2019['CAUSABAS']"
   ]
  },
  {
   "cell_type": "code",
   "execution_count": null,
   "metadata": {},
   "outputs": [],
   "source": [
    "Mortalidade_2019['Classificação de causas'] = Mortalidade_2019['Classificação de causas'].str.replace('[A-E].*', 'Doença')\n",
    "Mortalidade_2019['Classificação de causas'] = Mortalidade_2019['Classificação de causas'].str.replace('F.*', 'Transtornos Mentais')\n",
    "Mortalidade_2019['Classificação de causas'] = Mortalidade_2019['Classificação de causas'].str.replace('[G-N].*', 'Doença')\n",
    "Mortalidade_2019['Classificação de causas'] = Mortalidade_2019['Classificação de causas'].str.replace('[O-Q].*', 'problemas na gestão/Parto e malformações')\n",
    "Mortalidade_2019['Classificação de causas'] = Mortalidade_2019['Classificação de causas'].str.replace('R.*', 'Doença')\n",
    "Mortalidade_2019['Classificação de causas'] = Mortalidade_2019['Classificação de causas'].str.replace('[S-T].*', 'Consequências de causas externas (lesões/ traumatismos)')\n",
    "Mortalidade_2019['Classificação de causas'] = Mortalidade_2019['Classificação de causas'].str.replace('[U-Y].*', 'Causas externas de morbidade e de mortalidade (acidente/agressao)')\n",
    "Mortalidade_2019['Classificação de causas'] = Mortalidade_2019['Classificação de causas'].str.replace('Z.*', 'Doença')"
   ]
  },
  {
   "cell_type": "code",
   "execution_count": 37,
   "metadata": {},
   "outputs": [
    {
     "data": {
      "text/html": [
       "<div>\n",
       "<style scoped>\n",
       "    .dataframe tbody tr th:only-of-type {\n",
       "        vertical-align: middle;\n",
       "    }\n",
       "\n",
       "    .dataframe tbody tr th {\n",
       "        vertical-align: top;\n",
       "    }\n",
       "\n",
       "    .dataframe thead th {\n",
       "        text-align: right;\n",
       "    }\n",
       "</style>\n",
       "<table border=\"1\" class=\"dataframe\">\n",
       "  <thead>\n",
       "    <tr style=\"text-align: right;\">\n",
       "      <th></th>\n",
       "      <th>DTOBITO</th>\n",
       "      <th>CODMUNOCOR</th>\n",
       "      <th>DTNASC</th>\n",
       "      <th>IDADE</th>\n",
       "      <th>SEXO</th>\n",
       "      <th>RACACOR</th>\n",
       "      <th>CAUSABAS</th>\n",
       "      <th>Classificação de causas</th>\n",
       "    </tr>\n",
       "  </thead>\n",
       "  <tbody>\n",
       "    <tr>\n",
       "      <th>0</th>\n",
       "      <td>2019-01-21</td>\n",
       "      <td>290750</td>\n",
       "      <td>1970-01-01</td>\n",
       "      <td>57.0</td>\n",
       "      <td>1</td>\n",
       "      <td>2.0</td>\n",
       "      <td>I12</td>\n",
       "      <td>Doença</td>\n",
       "    </tr>\n",
       "    <tr>\n",
       "      <th>1</th>\n",
       "      <td>2019-01-28</td>\n",
       "      <td>290750</td>\n",
       "      <td>1970-01-01</td>\n",
       "      <td>80.0</td>\n",
       "      <td>2</td>\n",
       "      <td>NaN</td>\n",
       "      <td>A41</td>\n",
       "      <td>Doença</td>\n",
       "    </tr>\n",
       "    <tr>\n",
       "      <th>2</th>\n",
       "      <td>2019-01-27</td>\n",
       "      <td>290750</td>\n",
       "      <td>1970-01-01</td>\n",
       "      <td>73.0</td>\n",
       "      <td>2</td>\n",
       "      <td>4.0</td>\n",
       "      <td>E03</td>\n",
       "      <td>Doença</td>\n",
       "    </tr>\n",
       "    <tr>\n",
       "      <th>3</th>\n",
       "      <td>2019-12-01</td>\n",
       "      <td>290750</td>\n",
       "      <td>1970-01-01</td>\n",
       "      <td>47.0</td>\n",
       "      <td>1</td>\n",
       "      <td>4.0</td>\n",
       "      <td>R22</td>\n",
       "      <td>Doença</td>\n",
       "    </tr>\n",
       "    <tr>\n",
       "      <th>4</th>\n",
       "      <td>2019-10-01</td>\n",
       "      <td>290750</td>\n",
       "      <td>1970-01-01</td>\n",
       "      <td>72.0</td>\n",
       "      <td>2</td>\n",
       "      <td>4.0</td>\n",
       "      <td>C15</td>\n",
       "      <td>Doença</td>\n",
       "    </tr>\n",
       "    <tr>\n",
       "      <th>...</th>\n",
       "      <td>...</td>\n",
       "      <td>...</td>\n",
       "      <td>...</td>\n",
       "      <td>...</td>\n",
       "      <td>...</td>\n",
       "      <td>...</td>\n",
       "      <td>...</td>\n",
       "      <td>...</td>\n",
       "    </tr>\n",
       "    <tr>\n",
       "      <th>1349796</th>\n",
       "      <td>2019-05-08</td>\n",
       "      <td>130406</td>\n",
       "      <td>1970-01-01</td>\n",
       "      <td>31.0</td>\n",
       "      <td>2</td>\n",
       "      <td>5.0</td>\n",
       "      <td>C53</td>\n",
       "      <td>Doença</td>\n",
       "    </tr>\n",
       "    <tr>\n",
       "      <th>1349797</th>\n",
       "      <td>2019-10-10</td>\n",
       "      <td>120060</td>\n",
       "      <td>1970-01-01</td>\n",
       "      <td>98.0</td>\n",
       "      <td>1</td>\n",
       "      <td>5.0</td>\n",
       "      <td>I21</td>\n",
       "      <td>Doença</td>\n",
       "    </tr>\n",
       "    <tr>\n",
       "      <th>1349798</th>\n",
       "      <td>2019-05-31</td>\n",
       "      <td>160050</td>\n",
       "      <td>1970-01-01</td>\n",
       "      <td>76.0</td>\n",
       "      <td>2</td>\n",
       "      <td>5.0</td>\n",
       "      <td>C78</td>\n",
       "      <td>Doença</td>\n",
       "    </tr>\n",
       "    <tr>\n",
       "      <th>1349799</th>\n",
       "      <td>2019-08-31</td>\n",
       "      <td>130406</td>\n",
       "      <td>1970-01-01</td>\n",
       "      <td>70.0</td>\n",
       "      <td>1</td>\n",
       "      <td>5.0</td>\n",
       "      <td>I64</td>\n",
       "      <td>Doença</td>\n",
       "    </tr>\n",
       "    <tr>\n",
       "      <th>1349800</th>\n",
       "      <td>2019-09-25</td>\n",
       "      <td>130406</td>\n",
       "      <td>1970-01-01</td>\n",
       "      <td>69.0</td>\n",
       "      <td>1</td>\n",
       "      <td>5.0</td>\n",
       "      <td>R99</td>\n",
       "      <td>Doença</td>\n",
       "    </tr>\n",
       "  </tbody>\n",
       "</table>\n",
       "<p>1349801 rows × 8 columns</p>\n",
       "</div>"
      ],
      "text/plain": [
       "           DTOBITO  CODMUNOCOR     DTNASC  IDADE  SEXO  RACACOR CAUSABAS  \\\n",
       "0       2019-01-21      290750 1970-01-01   57.0     1      2.0      I12   \n",
       "1       2019-01-28      290750 1970-01-01   80.0     2      NaN      A41   \n",
       "2       2019-01-27      290750 1970-01-01   73.0     2      4.0      E03   \n",
       "3       2019-12-01      290750 1970-01-01   47.0     1      4.0      R22   \n",
       "4       2019-10-01      290750 1970-01-01   72.0     2      4.0      C15   \n",
       "...            ...         ...        ...    ...   ...      ...      ...   \n",
       "1349796 2019-05-08      130406 1970-01-01   31.0     2      5.0      C53   \n",
       "1349797 2019-10-10      120060 1970-01-01   98.0     1      5.0      I21   \n",
       "1349798 2019-05-31      160050 1970-01-01   76.0     2      5.0      C78   \n",
       "1349799 2019-08-31      130406 1970-01-01   70.0     1      5.0      I64   \n",
       "1349800 2019-09-25      130406 1970-01-01   69.0     1      5.0      R99   \n",
       "\n",
       "        Classificação de causas  \n",
       "0                        Doença  \n",
       "1                        Doença  \n",
       "2                        Doença  \n",
       "3                        Doença  \n",
       "4                        Doença  \n",
       "...                         ...  \n",
       "1349796                  Doença  \n",
       "1349797                  Doença  \n",
       "1349798                  Doença  \n",
       "1349799                  Doença  \n",
       "1349800                  Doença  \n",
       "\n",
       "[1349801 rows x 8 columns]"
      ]
     },
     "execution_count": 37,
     "metadata": {},
     "output_type": "execute_result"
    }
   ],
   "source": [
    "Mortalidade_2019"
   ]
  },
  {
   "cell_type": "markdown",
   "metadata": {},
   "source": [
    "# Lendo arquivo CID para juntar as tabelas de CID e Mortalidade"
   ]
  },
  {
   "cell_type": "code",
   "execution_count": null,
   "metadata": {},
   "outputs": [],
   "source": [
    "CID_2019 = pd.read_excel(r'C:\\Projeto Final\\data\\CID_2019.xlsx', header=15, skipfooter=8)"
   ]
  },
  {
   "cell_type": "markdown",
   "metadata": {},
   "source": [
    "# Fazendo o tratamento do arquivo CID"
   ]
  },
  {
   "cell_type": "code",
   "execution_count": null,
   "metadata": {},
   "outputs": [],
   "source": [
    "CID_2019['Total'] = CID_2019['Total'].apply(lambda x: f'{x[0:3]}')\n",
    "CID_2019 = CID_2019.loc[:,['Total']]\n",
    "CID_2019  = CID_2019.drop(CID_2019.loc[CID_2019['Total']=='Cap'].index)\n",
    "CID_2019['Classificação de causas'] = CID_2019['Total']"
   ]
  },
  {
   "cell_type": "markdown",
   "metadata": {},
   "source": [
    "Classificação de causas (coluna CAUSABAS)\n",
    "\n",
    "    - A00 ~ E99 --> doenças\n",
    "\n",
    "    - F00       --> Transtornos Mentais\n",
    "\n",
    "    - G00 ~ N99 --> doenças\n",
    "\n",
    "    - O00 ~ Q99 --> problemas na gestão/Parto e malformações\n",
    "\n",
    "    - R00       --> doenças\n",
    "\n",
    "    - S00 ~ T98 --> Consequências de causas externas (lesões/ traumatismos)\n",
    "\n",
    "    - U00 ~ Y98 --> Causas externas de morbidade e de mortalidade (acidente/agressao/intoxicação/falta de comida/falta de agua/queda/tiro)\n",
    "\n",
    "    - Z00 ~     --> doenças"
   ]
  },
  {
   "cell_type": "code",
   "execution_count": null,
   "metadata": {},
   "outputs": [],
   "source": [
    "CID_2019['Classificação de causas'] = CID_2019['Classificação de causas'].str.replace('[A-E].*', 'Doença')\n",
    "CID_2019['Classificação de causas'] = CID_2019['Classificação de causas'].str.replace('F.*', 'Transtornos Mentais')\n",
    "CID_2019['Classificação de causas'] = CID_2019['Classificação de causas'].str.replace('[G-N].*', 'Doença')\n",
    "CID_2019['Classificação de causas'] = CID_2019['Classificação de causas'].str.replace('[O-Q].*', 'problemas na gestão/Parto e malformações')\n",
    "CID_2019['Classificação de causas'] = CID_2019['Classificação de causas'].str.replace('R.*', 'Doença')\n",
    "CID_2019['Classificação de causas'] = CID_2019['Classificação de causas'].str.replace('[S-T].*', 'Consequências de causas externas (lesões/ traumatismos)')\n",
    "CID_2019['Classificação de causas'] = CID_2019['Classificação de causas'].str.replace('[U-Y].*', 'Causas externas de morbidade e de mortalidade (acidente/agressao)')\n",
    "CID_2019['Classificação de causas'] = CID_2019['Classificação de causas'].str.replace('Z.*', 'Doença')"
   ]
  },
  {
   "cell_type": "markdown",
   "metadata": {},
   "source": [
    "# Lendo Arquivo de Municípios/Estados para juntar com a tabela de mortalidade"
   ]
  },
  {
   "cell_type": "code",
   "execution_count": 32,
   "metadata": {},
   "outputs": [],
   "source": [
    "Municípios_Estados = pd.read_excel(r'C:\\Projeto Final\\data\\RELATORIO_DTB_BRASIL_MUNICIPIO.xls')"
   ]
  },
  {
   "cell_type": "markdown",
   "metadata": {},
   "source": [
    "somente as colunas que irão ser utilizadas para a análise"
   ]
  },
  {
   "cell_type": "code",
   "execution_count": 33,
   "metadata": {},
   "outputs": [],
   "source": [
    "Municípios_Estados = Municípios_Estados.loc[:, ['Nome_UF', 'Região Geográfica Imediata']]"
   ]
  },
  {
   "cell_type": "code",
   "execution_count": 20,
   "metadata": {},
   "outputs": [
    {
     "data": {
      "text/html": [
       "<div>\n",
       "<style scoped>\n",
       "    .dataframe tbody tr th:only-of-type {\n",
       "        vertical-align: middle;\n",
       "    }\n",
       "\n",
       "    .dataframe tbody tr th {\n",
       "        vertical-align: top;\n",
       "    }\n",
       "\n",
       "    .dataframe thead th {\n",
       "        text-align: right;\n",
       "    }\n",
       "</style>\n",
       "<table border=\"1\" class=\"dataframe\">\n",
       "  <thead>\n",
       "    <tr style=\"text-align: right;\">\n",
       "      <th></th>\n",
       "      <th>DTOBITO</th>\n",
       "      <th>CODMUNOCOR</th>\n",
       "      <th>DTNASC</th>\n",
       "      <th>IDADE</th>\n",
       "      <th>SEXO</th>\n",
       "      <th>RACACOR</th>\n",
       "      <th>CAUSABAS</th>\n",
       "      <th>Classificação de causas</th>\n",
       "    </tr>\n",
       "  </thead>\n",
       "  <tbody>\n",
       "    <tr>\n",
       "      <th>0</th>\n",
       "      <td>2019-01-21</td>\n",
       "      <td>290750</td>\n",
       "      <td>1970-01-01</td>\n",
       "      <td>57.0</td>\n",
       "      <td>1</td>\n",
       "      <td>2.0</td>\n",
       "      <td>I12</td>\n",
       "      <td>Doença</td>\n",
       "    </tr>\n",
       "    <tr>\n",
       "      <th>1</th>\n",
       "      <td>2019-01-28</td>\n",
       "      <td>290750</td>\n",
       "      <td>1970-01-01</td>\n",
       "      <td>80.0</td>\n",
       "      <td>2</td>\n",
       "      <td>NaN</td>\n",
       "      <td>A41</td>\n",
       "      <td>Doença</td>\n",
       "    </tr>\n",
       "    <tr>\n",
       "      <th>2</th>\n",
       "      <td>2019-01-27</td>\n",
       "      <td>290750</td>\n",
       "      <td>1970-01-01</td>\n",
       "      <td>73.0</td>\n",
       "      <td>2</td>\n",
       "      <td>4.0</td>\n",
       "      <td>E03</td>\n",
       "      <td>Doença</td>\n",
       "    </tr>\n",
       "    <tr>\n",
       "      <th>3</th>\n",
       "      <td>2019-12-01</td>\n",
       "      <td>290750</td>\n",
       "      <td>1970-01-01</td>\n",
       "      <td>47.0</td>\n",
       "      <td>1</td>\n",
       "      <td>4.0</td>\n",
       "      <td>R22</td>\n",
       "      <td>Doença</td>\n",
       "    </tr>\n",
       "    <tr>\n",
       "      <th>4</th>\n",
       "      <td>2019-10-01</td>\n",
       "      <td>290750</td>\n",
       "      <td>1970-01-01</td>\n",
       "      <td>72.0</td>\n",
       "      <td>2</td>\n",
       "      <td>4.0</td>\n",
       "      <td>C15</td>\n",
       "      <td>Doença</td>\n",
       "    </tr>\n",
       "  </tbody>\n",
       "</table>\n",
       "</div>"
      ],
      "text/plain": [
       "     DTOBITO  CODMUNOCOR     DTNASC  IDADE  SEXO  RACACOR CAUSABAS  \\\n",
       "0 2019-01-21      290750 1970-01-01   57.0     1      2.0      I12   \n",
       "1 2019-01-28      290750 1970-01-01   80.0     2      NaN      A41   \n",
       "2 2019-01-27      290750 1970-01-01   73.0     2      4.0      E03   \n",
       "3 2019-12-01      290750 1970-01-01   47.0     1      4.0      R22   \n",
       "4 2019-10-01      290750 1970-01-01   72.0     2      4.0      C15   \n",
       "\n",
       "  Classificação de causas  \n",
       "0                  Doença  \n",
       "1                  Doença  \n",
       "2                  Doença  \n",
       "3                  Doença  \n",
       "4                  Doença  "
      ]
     },
     "execution_count": 20,
     "metadata": {},
     "output_type": "execute_result"
    }
   ],
   "source": [
    "Mortalidade_2019.head()"
   ]
  },
  {
   "cell_type": "markdown",
   "metadata": {},
   "source": [
    "# Juntando as Tabelas"
   ]
  },
  {
   "cell_type": "code",
   "execution_count": 38,
   "metadata": {},
   "outputs": [],
   "source": [
    "mortalidade_municipio_2019 = pd.merge(Mortalidade_2019, Municípios_Estados, left_on = 'CODMUNOCOR', right_on ='Região Geográfica Imediata')"
   ]
  },
  {
   "cell_type": "code",
   "execution_count": 39,
   "metadata": {},
   "outputs": [
    {
     "data": {
      "text/html": [
       "<div>\n",
       "<style scoped>\n",
       "    .dataframe tbody tr th:only-of-type {\n",
       "        vertical-align: middle;\n",
       "    }\n",
       "\n",
       "    .dataframe tbody tr th {\n",
       "        vertical-align: top;\n",
       "    }\n",
       "\n",
       "    .dataframe thead th {\n",
       "        text-align: right;\n",
       "    }\n",
       "</style>\n",
       "<table border=\"1\" class=\"dataframe\">\n",
       "  <thead>\n",
       "    <tr style=\"text-align: right;\">\n",
       "      <th></th>\n",
       "      <th>DTOBITO</th>\n",
       "      <th>CODMUNOCOR</th>\n",
       "      <th>DTNASC</th>\n",
       "      <th>IDADE</th>\n",
       "      <th>SEXO</th>\n",
       "      <th>RACACOR</th>\n",
       "      <th>CAUSABAS</th>\n",
       "      <th>Classificação de causas</th>\n",
       "      <th>Nome_UF</th>\n",
       "      <th>Região Geográfica Imediata</th>\n",
       "    </tr>\n",
       "  </thead>\n",
       "  <tbody>\n",
       "    <tr>\n",
       "      <th>0</th>\n",
       "      <td>2019-01-29</td>\n",
       "      <td>350050</td>\n",
       "      <td>1970-01-01</td>\n",
       "      <td>41.0</td>\n",
       "      <td>1</td>\n",
       "      <td>1.0</td>\n",
       "      <td>I21</td>\n",
       "      <td>Doença</td>\n",
       "      <td>São Paulo</td>\n",
       "      <td>350050</td>\n",
       "    </tr>\n",
       "    <tr>\n",
       "      <th>1</th>\n",
       "      <td>2019-01-29</td>\n",
       "      <td>350050</td>\n",
       "      <td>1970-01-01</td>\n",
       "      <td>41.0</td>\n",
       "      <td>1</td>\n",
       "      <td>1.0</td>\n",
       "      <td>I21</td>\n",
       "      <td>Doença</td>\n",
       "      <td>São Paulo</td>\n",
       "      <td>350050</td>\n",
       "    </tr>\n",
       "    <tr>\n",
       "      <th>2</th>\n",
       "      <td>2019-01-29</td>\n",
       "      <td>350050</td>\n",
       "      <td>1970-01-01</td>\n",
       "      <td>41.0</td>\n",
       "      <td>1</td>\n",
       "      <td>1.0</td>\n",
       "      <td>I21</td>\n",
       "      <td>Doença</td>\n",
       "      <td>São Paulo</td>\n",
       "      <td>350050</td>\n",
       "    </tr>\n",
       "    <tr>\n",
       "      <th>3</th>\n",
       "      <td>2019-01-29</td>\n",
       "      <td>350050</td>\n",
       "      <td>1970-01-01</td>\n",
       "      <td>41.0</td>\n",
       "      <td>1</td>\n",
       "      <td>1.0</td>\n",
       "      <td>I21</td>\n",
       "      <td>Doença</td>\n",
       "      <td>São Paulo</td>\n",
       "      <td>350050</td>\n",
       "    </tr>\n",
       "    <tr>\n",
       "      <th>4</th>\n",
       "      <td>2019-01-29</td>\n",
       "      <td>350050</td>\n",
       "      <td>1970-01-01</td>\n",
       "      <td>41.0</td>\n",
       "      <td>1</td>\n",
       "      <td>1.0</td>\n",
       "      <td>I21</td>\n",
       "      <td>Doença</td>\n",
       "      <td>São Paulo</td>\n",
       "      <td>350050</td>\n",
       "    </tr>\n",
       "    <tr>\n",
       "      <th>...</th>\n",
       "      <td>...</td>\n",
       "      <td>...</td>\n",
       "      <td>...</td>\n",
       "      <td>...</td>\n",
       "      <td>...</td>\n",
       "      <td>...</td>\n",
       "      <td>...</td>\n",
       "      <td>...</td>\n",
       "      <td>...</td>\n",
       "      <td>...</td>\n",
       "    </tr>\n",
       "    <tr>\n",
       "      <th>87261</th>\n",
       "      <td>2019-07-12</td>\n",
       "      <td>420005</td>\n",
       "      <td>1970-01-01</td>\n",
       "      <td>84.0</td>\n",
       "      <td>2</td>\n",
       "      <td>1.0</td>\n",
       "      <td>I10</td>\n",
       "      <td>Doença</td>\n",
       "      <td>Santa Catarina</td>\n",
       "      <td>420005</td>\n",
       "    </tr>\n",
       "    <tr>\n",
       "      <th>87262</th>\n",
       "      <td>2019-07-12</td>\n",
       "      <td>420005</td>\n",
       "      <td>1970-01-01</td>\n",
       "      <td>84.0</td>\n",
       "      <td>2</td>\n",
       "      <td>1.0</td>\n",
       "      <td>I10</td>\n",
       "      <td>Doença</td>\n",
       "      <td>Santa Catarina</td>\n",
       "      <td>420005</td>\n",
       "    </tr>\n",
       "    <tr>\n",
       "      <th>87263</th>\n",
       "      <td>2019-07-12</td>\n",
       "      <td>420005</td>\n",
       "      <td>1970-01-01</td>\n",
       "      <td>84.0</td>\n",
       "      <td>2</td>\n",
       "      <td>1.0</td>\n",
       "      <td>I10</td>\n",
       "      <td>Doença</td>\n",
       "      <td>Santa Catarina</td>\n",
       "      <td>420005</td>\n",
       "    </tr>\n",
       "    <tr>\n",
       "      <th>87264</th>\n",
       "      <td>2019-07-12</td>\n",
       "      <td>420005</td>\n",
       "      <td>1970-01-01</td>\n",
       "      <td>84.0</td>\n",
       "      <td>2</td>\n",
       "      <td>1.0</td>\n",
       "      <td>I10</td>\n",
       "      <td>Doença</td>\n",
       "      <td>Santa Catarina</td>\n",
       "      <td>420005</td>\n",
       "    </tr>\n",
       "    <tr>\n",
       "      <th>87265</th>\n",
       "      <td>2019-07-12</td>\n",
       "      <td>420005</td>\n",
       "      <td>1970-01-01</td>\n",
       "      <td>84.0</td>\n",
       "      <td>2</td>\n",
       "      <td>1.0</td>\n",
       "      <td>I10</td>\n",
       "      <td>Doença</td>\n",
       "      <td>Santa Catarina</td>\n",
       "      <td>420005</td>\n",
       "    </tr>\n",
       "  </tbody>\n",
       "</table>\n",
       "<p>87266 rows × 10 columns</p>\n",
       "</div>"
      ],
      "text/plain": [
       "         DTOBITO  CODMUNOCOR     DTNASC  IDADE  SEXO  RACACOR CAUSABAS  \\\n",
       "0     2019-01-29      350050 1970-01-01   41.0     1      1.0      I21   \n",
       "1     2019-01-29      350050 1970-01-01   41.0     1      1.0      I21   \n",
       "2     2019-01-29      350050 1970-01-01   41.0     1      1.0      I21   \n",
       "3     2019-01-29      350050 1970-01-01   41.0     1      1.0      I21   \n",
       "4     2019-01-29      350050 1970-01-01   41.0     1      1.0      I21   \n",
       "...          ...         ...        ...    ...   ...      ...      ...   \n",
       "87261 2019-07-12      420005 1970-01-01   84.0     2      1.0      I10   \n",
       "87262 2019-07-12      420005 1970-01-01   84.0     2      1.0      I10   \n",
       "87263 2019-07-12      420005 1970-01-01   84.0     2      1.0      I10   \n",
       "87264 2019-07-12      420005 1970-01-01   84.0     2      1.0      I10   \n",
       "87265 2019-07-12      420005 1970-01-01   84.0     2      1.0      I10   \n",
       "\n",
       "      Classificação de causas         Nome_UF  Região Geográfica Imediata  \n",
       "0                      Doença       São Paulo                      350050  \n",
       "1                      Doença       São Paulo                      350050  \n",
       "2                      Doença       São Paulo                      350050  \n",
       "3                      Doença       São Paulo                      350050  \n",
       "4                      Doença       São Paulo                      350050  \n",
       "...                       ...             ...                         ...  \n",
       "87261                  Doença  Santa Catarina                      420005  \n",
       "87262                  Doença  Santa Catarina                      420005  \n",
       "87263                  Doença  Santa Catarina                      420005  \n",
       "87264                  Doença  Santa Catarina                      420005  \n",
       "87265                  Doença  Santa Catarina                      420005  \n",
       "\n",
       "[87266 rows x 10 columns]"
      ]
     },
     "execution_count": 39,
     "metadata": {},
     "output_type": "execute_result"
    }
   ],
   "source": [
    "mortalidade_municipio_2019"
   ]
  },
  {
   "cell_type": "code",
   "execution_count": null,
   "metadata": {},
   "outputs": [],
   "source": []
  }
 ],
 "metadata": {
  "interpreter": {
   "hash": "df0c761d1085a0714814de565803b55566ff6ed3425e378fe1584d694fe7171e"
  },
  "kernelspec": {
   "display_name": "Python 3.9.7 ('base')",
   "language": "python",
   "name": "python3"
  },
  "language_info": {
   "codemirror_mode": {
    "name": "ipython",
    "version": 3
   },
   "file_extension": ".py",
   "mimetype": "text/x-python",
   "name": "python",
   "nbconvert_exporter": "python",
   "pygments_lexer": "ipython3",
   "version": "3.9.7"
  },
  "orig_nbformat": 4
 },
 "nbformat": 4,
 "nbformat_minor": 2
}
