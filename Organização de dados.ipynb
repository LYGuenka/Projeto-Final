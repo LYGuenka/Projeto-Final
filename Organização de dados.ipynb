{
 "cells": [
  {
   "cell_type": "markdown",
   "metadata": {},
   "source": [
    "# Importando as biblitecas"
   ]
  },
  {
   "cell_type": "code",
   "execution_count": null,
   "metadata": {},
   "outputs": [],
   "source": [
    "import pandas as pd\n",
    "import re\n",
    "import numpy as np"
   ]
  },
  {
   "cell_type": "markdown",
   "metadata": {},
   "source": [
    "# Lendo o arquivo de mortalidade"
   ]
  },
  {
   "cell_type": "code",
   "execution_count": null,
   "metadata": {},
   "outputs": [],
   "source": [
    "Mortalidade_2019 = pd.read_csv(r'C:\\Projeto Final\\data\\Mortalidade_Geral_2019.csv', sep = ';')"
   ]
  },
  {
   "cell_type": "markdown",
   "metadata": {},
   "source": [
    "# Estudando a tabela "
   ]
  },
  {
   "cell_type": "code",
   "execution_count": null,
   "metadata": {},
   "outputs": [],
   "source": [
    "Mortalidade_2019.head()"
   ]
  },
  {
   "cell_type": "code",
   "execution_count": null,
   "metadata": {},
   "outputs": [],
   "source": [
    "Mortalidade_2019.info()"
   ]
  },
  {
   "cell_type": "code",
   "execution_count": null,
   "metadata": {},
   "outputs": [],
   "source": [
    "Mortalidade_2019.columns"
   ]
  },
  {
   "cell_type": "markdown",
   "metadata": {},
   "source": [
    "# Fazendo Verificação e Limpeza da Tabela"
   ]
  },
  {
   "cell_type": "code",
   "execution_count": null,
   "metadata": {},
   "outputs": [],
   "source": [
    "Mortalidade_2019 = Mortalidade_2019.loc[:,['DTOBITO', 'CODMUNOCOR', 'DTNASC', 'IDADE', 'SEXO', 'RACACOR', 'CAUSABAS']]"
   ]
  },
  {
   "cell_type": "markdown",
   "metadata": {},
   "source": [
    "Vendo os gêneros que mais sofreram com as mortes"
   ]
  },
  {
   "cell_type": "code",
   "execution_count": null,
   "metadata": {},
   "outputs": [],
   "source": [
    "Mortalidade_2019['SEXO'].value_counts()"
   ]
  },
  {
   "cell_type": "code",
   "execution_count": null,
   "metadata": {},
   "outputs": [],
   "source": [
    "#Ao verificar que o Sexo que está igual a 1 possui maior valor, pode-se confirmar que são os homens, pois ao pesquisar sobre a mortalidade de gêneros, os homens são os que mais sofrem mortes"
   ]
  },
  {
   "cell_type": "markdown",
   "metadata": {},
   "source": [
    "Corrigindo a coluna de idade"
   ]
  },
  {
   "cell_type": "code",
   "execution_count": null,
   "metadata": {},
   "outputs": [],
   "source": [
    "Mortalidade_2019['IDADE'] = Mortalidade_2019['IDADE'].astype(str)\n",
    "\n",
    "def limpeza_idade(linha):\n",
    "    x = linha['IDADE']\n",
    "    if linha['DTOBITO']  == linha['DTNASC'] or linha['DTOBITO'] == linha['DTNASC']+1:\n",
    "        return 0\n",
    "\n",
    "    elif x.startswith('5') and len(x) == 3:\n",
    "        x_new_5 = x.replace('5', '1', 1)\n",
    "        x_new_5 = float(x)\n",
    "        return x_new_5\n",
    "\n",
    "    elif x.startswith('4') and len(x) == 3:\n",
    "        x_new_4 = float(x[1:])\n",
    "        return x_new_4\n",
    "\n",
    "    elif x.startswith('3') and len(x) == 3 or len(x) == 2:\n",
    "        x_new_3 = float(x[1:])\n",
    "        x_new_3 = (x_new_3 * 833334/100)\n",
    "        return x_new_3\n",
    "\n",
    "    elif x.startswith('2') and len(x) == 3 or len(x) == 2:\n",
    "        x_new_2 = float(x[1:])\n",
    "        x_new_2 = (x_new_2 * 114155/10000)\n",
    "        return x_new_2\n",
    "\n",
    "    elif x.startswith('1') and len(x) == 3 or len(x) == 2:\n",
    "        x_new_1 = float(x[1:])\n",
    "        x_new_1 = (x_new_1 * 1.90259/1000000)\n",
    "        return x_new_1\n",
    "\n",
    "Mortalidade_2019['IDADE'] = Mortalidade_2019.apply(limpeza_idade, axis = 1)"
   ]
  },
  {
   "cell_type": "markdown",
   "metadata": {},
   "source": [
    "Mudando o formato das datas da coluna de óbito e nascimento"
   ]
  },
  {
   "cell_type": "code",
   "execution_count": null,
   "metadata": {},
   "outputs": [],
   "source": [
    "Mortalidade_2019['DTOBITO'] = Mortalidade_2019['DTOBITO'].astype(str).str.zfill(8)                          # deixa todas as linhas com 8 números, alem de transformar em str\n",
    "Mortalidade_2019['DTOBITO'] = Mortalidade_2019['DTOBITO'].apply(lambda x: f'{x[0:2]}/{x[2:4]}/{x[4:]}')     # aplica '/' em todas as datas\n",
    "Mortalidade_2019['DTOBITO'] = pd.to_datetime(Mortalidade_2019['DTOBITO'])                                   # transforma em datetime"
   ]
  },
  {
   "cell_type": "code",
   "execution_count": null,
   "metadata": {},
   "outputs": [],
   "source": [
    "Mortalidade_2019['DTNASC'] = Mortalidade_2019['DTNASC'].fillna(0)                      #transforma nulo em zeros\n",
    "Mortalidade_2019['DTNASC'] = pd.to_datetime(Mortalidade_2019['DTNASC']).dt.date        #transforma em data\n",
    "Mortalidade_2019['DTNASC'] = pd.to_datetime(Mortalidade_2019['DTNASC'])"
   ]
  },
  {
   "cell_type": "markdown",
   "metadata": {},
   "source": [
    "Arrumando a coluna de Causas para conectar a outra tabela"
   ]
  },
  {
   "cell_type": "code",
   "execution_count": null,
   "metadata": {},
   "outputs": [],
   "source": [
    "Mortalidade_2019['CAUSABAS'] = Mortalidade_2019['CAUSABAS'].apply(lambda x: f'{x[0:3]}')"
   ]
  },
  {
   "cell_type": "markdown",
   "metadata": {},
   "source": [
    "# Lendo arquivo CID para juntar as tabelas de CID e Mortalidade"
   ]
  },
  {
   "cell_type": "code",
   "execution_count": null,
   "metadata": {},
   "outputs": [],
   "source": [
    "CID_2019 = pd.read_excel(r'C:\\Projeto Final\\data\\CID_2019.xlsx', header=15, skipfooter=8)"
   ]
  },
  {
   "cell_type": "markdown",
   "metadata": {},
   "source": [
    "# Fazendo o tratamento do arquivo CID"
   ]
  },
  {
   "cell_type": "code",
   "execution_count": null,
   "metadata": {},
   "outputs": [],
   "source": [
    "CID_2019['Total'] = CID_2019['Total'].apply(lambda x: f'{x[0:3]}')\n",
    "CID_2019 = CID_2019.loc[:,['Total']]\n",
    "CID_2019  = CID_2019.drop(CID_2019.loc[CID_2019['Total']=='Cap'].index)\n",
    "CID_2019['Classificação de causas'] = CID_2019['Total']"
   ]
  },
  {
   "cell_type": "markdown",
   "metadata": {},
   "source": [
    "Classificação de causas (coluna CAUSABAS)\n",
    "\n",
    "    - A00 ~ E99 --> doenças\n",
    "\n",
    "    - F00       --> Transtornos Mentais\n",
    "\n",
    "    - G00 ~ N99 --> doenças\n",
    "\n",
    "    - O00 ~ Q99 --> problemas na gestão/Parto e malformações\n",
    "\n",
    "    - R00       --> doenças\n",
    "\n",
    "    - S00 ~ T98 --> Consequências de causas externas (lesões/ traumatismos)\n",
    "\n",
    "    - U00 ~ Y98 --> Causas externas de morbidade e de mortalidade (acidente/agressao/intoxicação/falta de comida/falta de agua/queda/tiro)\n",
    "\n",
    "    - Z00 ~     --> doenças"
   ]
  },
  {
   "cell_type": "code",
   "execution_count": null,
   "metadata": {},
   "outputs": [],
   "source": [
    "CID_2019['Classificação de causas'] = CID_2019['Classificação de causas'].str.replace('[A-E].*', 'Doença')\n",
    "CID_2019['Classificação de causas'] = CID_2019['Classificação de causas'].str.replace('F.*', 'Transtornos Mentais')\n",
    "CID_2019['Classificação de causas'] = CID_2019['Classificação de causas'].str.replace('[G-N].*', 'Doença')\n",
    "CID_2019['Classificação de causas'] = CID_2019['Classificação de causas'].str.replace('[O-Q].*', 'problemas na gestão/Parto e malformações')\n",
    "CID_2019['Classificação de causas'] = CID_2019['Classificação de causas'].str.replace('R.*', 'Doença')\n",
    "CID_2019['Classificação de causas'] = CID_2019['Classificação de causas'].str.replace('[S-T].*', 'Consequências de causas externas (lesões/ traumatismos)')\n",
    "CID_2019['Classificação de causas'] = CID_2019['Classificação de causas'].str.replace('[U-Y].*', 'Causas externas de morbidade e de mortalidade (acidente/agressao)')\n",
    "CID_2019['Classificação de causas'] = CID_2019['Classificação de causas'].str.replace('Z.*', 'Doença')"
   ]
  },
  {
   "cell_type": "code",
   "execution_count": null,
   "metadata": {},
   "outputs": [],
   "source": []
  },
  {
   "cell_type": "code",
   "execution_count": null,
   "metadata": {},
   "outputs": [],
   "source": []
  },
  {
   "cell_type": "code",
   "execution_count": null,
   "metadata": {},
   "outputs": [],
   "source": []
  },
  {
   "cell_type": "code",
   "execution_count": null,
   "metadata": {},
   "outputs": [],
   "source": []
  },
  {
   "cell_type": "code",
   "execution_count": null,
   "metadata": {},
   "outputs": [],
   "source": []
  }
 ],
 "metadata": {
  "interpreter": {
   "hash": "df0c761d1085a0714814de565803b55566ff6ed3425e378fe1584d694fe7171e"
  },
  "kernelspec": {
   "display_name": "Python 3.9.7 ('base')",
   "language": "python",
   "name": "python3"
  },
  "language_info": {
   "codemirror_mode": {
    "name": "ipython",
    "version": 3
   },
   "file_extension": ".py",
   "mimetype": "text/x-python",
   "name": "python",
   "nbconvert_exporter": "python",
   "pygments_lexer": "ipython3",
   "version": "3.8.12"
  },
  "orig_nbformat": 4
 },
 "nbformat": 4,
 "nbformat_minor": 2
}
