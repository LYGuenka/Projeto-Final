{
 "cells": [
  {
   "cell_type": "markdown",
   "metadata": {},
   "source": [
    "# Importando as biblitecas"
   ]
  },
  {
   "cell_type": "code",
   "execution_count": null,
   "metadata": {},
   "outputs": [],
   "source": [
    "import pandas as pd\n",
    "import re\n",
    "import numpy as np"
   ]
  },
  {
   "cell_type": "markdown",
   "metadata": {},
   "source": [
    "# Lendo o arquivo de mortalidade"
   ]
  },
  {
   "cell_type": "code",
   "execution_count": null,
   "metadata": {},
   "outputs": [],
   "source": [
    "Mortalidade_2019 = pd.read_csv(r'C:\\Projeto Final\\data\\Mortalidade_Geral_2019.csv', sep = ';')"
   ]
  },
  {
   "cell_type": "markdown",
   "metadata": {},
   "source": [
    "# Estudando a tabela "
   ]
  },
  {
   "cell_type": "code",
   "execution_count": null,
   "metadata": {},
   "outputs": [],
   "source": [
    "Mortalidade_2019.head()"
   ]
  },
  {
   "cell_type": "code",
   "execution_count": null,
   "metadata": {},
   "outputs": [],
   "source": [
    "Mortalidade_2019.info()"
   ]
  },
  {
   "cell_type": "code",
   "execution_count": null,
   "metadata": {},
   "outputs": [],
   "source": [
    "Mortalidade_2019.columns"
   ]
  },
  {
   "cell_type": "markdown",
   "metadata": {},
   "source": [
    "# Fazendo Verificação e Limpeza da Tabela"
   ]
  },
  {
   "cell_type": "code",
   "execution_count": null,
   "metadata": {},
   "outputs": [],
   "source": [
    "Mortalidade_2019 = Mortalidade_2019.loc[:,['DTOBITO', 'CODMUNOCOR', 'DTNASC', 'IDADE', 'SEXO', 'RACACOR', 'CAUSABAS']]"
   ]
  },
  {
   "cell_type": "markdown",
   "metadata": {},
   "source": [
    "Vendo os gêneros que mais sofreram com as mortes"
   ]
  },
  {
   "cell_type": "code",
   "execution_count": null,
   "metadata": {},
   "outputs": [],
   "source": [
    "Mortalidade_2019['SEXO'].value_counts()"
   ]
  },
  {
   "cell_type": "code",
   "execution_count": null,
   "metadata": {},
   "outputs": [],
   "source": [
    "#Ao verificar que o Sexo que está igual a 1 possui maior valor, pode-se confirmar que são os homens, pois ao pesquisar sobre a mortalidade de gêneros, os homens são os que mais sofrem mortes"
   ]
  },
  {
   "cell_type": "markdown",
   "metadata": {},
   "source": [
    "Corrigindo a coluna de idade"
   ]
  },
  {
   "cell_type": "code",
   "execution_count": null,
   "metadata": {},
   "outputs": [],
   "source": [
    "Mortalidade_2019['IDADE'] = Mortalidade_2019['IDADE'].astype(str)\n",
    "\n",
    "def limpeza_idade(linha):\n",
    "    x = linha['IDADE']\n",
    "    if linha['DTOBITO']  == linha['DTNASC'] or linha['DTOBITO'] == linha['DTNASC']+1:\n",
    "        return 0\n",
    "\n",
    "    elif x.startswith('5') and len(x) == 3:\n",
    "        x_new_5 = x.replace('5', '1', 1)\n",
    "        x_new_5 = float(x)\n",
    "        return x_new_5\n",
    "\n",
    "    elif x.startswith('4') and len(x) == 3:\n",
    "        x_new_4 = float(x[1:])\n",
    "        return x_new_4\n",
    "\n",
    "    elif x.startswith('3') and len(x) == 3 or len(x) == 2:\n",
    "        x_new_3 = float(x[1:])\n",
    "        x_new_3 = (x_new_3 * 833334/100)\n",
    "        return x_new_3\n",
    "\n",
    "    elif x.startswith('2') and len(x) == 3 or len(x) == 2:\n",
    "        x_new_2 = float(x[1:])\n",
    "        x_new_2 = (x_new_2 * 114155/10000)\n",
    "        return x_new_2\n",
    "\n",
    "    elif x.startswith('1') and len(x) == 3 or len(x) == 2:\n",
    "        x_new_1 = float(x[1:])\n",
    "        x_new_1 = (x_new_1 * 1.90259/1000000)\n",
    "        return x_new_1\n",
    "\n",
    "Mortalidade_2019['IDADE'] = Mortalidade_2019.apply(limpeza_idade, axis = 1)"
   ]
  },
  {
   "cell_type": "markdown",
   "metadata": {},
   "source": [
    "Mudando o formato das datas da coluna de óbito e nascimento"
   ]
  },
  {
   "cell_type": "code",
   "execution_count": null,
   "metadata": {},
   "outputs": [],
   "source": [
    "Mortalidade_2019['DTOBITO'] = Mortalidade_2019['DTOBITO'].astype(str).str.zfill(8)                          # deixa todas as linhas com 8 números, alem de transformar em str\n",
    "Mortalidade_2019['DTOBITO'] = Mortalidade_2019['DTOBITO'].apply(lambda x: f'{x[0:2]}/{x[2:4]}/{x[4:]}')     # aplica '/' em todas as datas\n",
    "Mortalidade_2019['DTOBITO'] = pd.to_datetime(Mortalidade_2019['DTOBITO'])                                   # transforma em datetime"
   ]
  },
  {
   "cell_type": "code",
   "execution_count": null,
   "metadata": {},
   "outputs": [],
   "source": [
    "Mortalidade_2019['DTNASC'] = Mortalidade_2019['DTNASC'].fillna(0)                      #transforma nulo em zeros\n",
    "Mortalidade_2019['DTNASC'] = pd.to_datetime(Mortalidade_2019['DTNASC']).dt.date        #transforma em data\n",
    "Mortalidade_2019['DTNASC'] = pd.to_datetime(Mortalidade_2019['DTNASC'])"
   ]
  },
  {
   "cell_type": "markdown",
   "metadata": {},
   "source": [
    "Arrumando a coluna de Causas e classificando cada uma das siglas "
   ]
  },
  {
   "cell_type": "code",
   "execution_count": null,
   "metadata": {},
   "outputs": [],
   "source": [
    "Mortalidade_2019['CAUSABAS'] = Mortalidade_2019['CAUSABAS'].apply(lambda x: f'{x[0:3]}')"
   ]
  },
  {
   "cell_type": "code",
   "execution_count": null,
   "metadata": {},
   "outputs": [],
   "source": [
    "Mortalidade_2019['Classificação de causas'] = Mortalidade_2019['CAUSABAS']"
   ]
  },
  {
   "cell_type": "code",
   "execution_count": null,
   "metadata": {},
   "outputs": [],
   "source": [
    "Mortalidade_2019['Classificação de causas'] = Mortalidade_2019['Classificação de causas'].str.replace('[A-E].*', 'Doença')\n",
    "Mortalidade_2019['Classificação de causas'] = Mortalidade_2019['Classificação de causas'].str.replace('F.*', 'Transtornos Mentais')\n",
    "Mortalidade_2019['Classificação de causas'] = Mortalidade_2019['Classificação de causas'].str.replace('[G-N].*', 'Doença')\n",
    "Mortalidade_2019['Classificação de causas'] = Mortalidade_2019['Classificação de causas'].str.replace('[O-Q].*', 'problemas na gestão/Parto e malformações')\n",
    "Mortalidade_2019['Classificação de causas'] = Mortalidade_2019['Classificação de causas'].str.replace('R.*', 'Doença')\n",
    "Mortalidade_2019['Classificação de causas'] = Mortalidade_2019['Classificação de causas'].str.replace('[S-T].*', 'Consequências de causas externas (lesões/ traumatismos)')\n",
    "Mortalidade_2019['Classificação de causas'] = Mortalidade_2019['Classificação de causas'].str.replace('[U-Y].*', 'Causas externas de morbidade e de mortalidade (acidente/agressao)')\n",
    "Mortalidade_2019['Classificação de causas'] = Mortalidade_2019['Classificação de causas'].str.replace('Z.*', 'Doença')"
   ]
  },
  {
   "cell_type": "markdown",
   "metadata": {},
   "source": [
    "# Lendo arquivo CID para juntar as tabelas de CID e Mortalidade"
   ]
  },
  {
   "cell_type": "code",
   "execution_count": null,
   "metadata": {},
   "outputs": [],
   "source": [
    "CID_2019 = pd.read_excel(r'C:\\Projeto Final\\data\\CID_2019.xlsx', header=15, skipfooter=8)"
   ]
  },
  {
   "cell_type": "markdown",
   "metadata": {},
   "source": [
    "# Fazendo o tratamento do arquivo CID"
   ]
  },
  {
   "cell_type": "code",
   "execution_count": null,
   "metadata": {},
   "outputs": [],
   "source": [
    "CID_2019['Total'] = CID_2019['Total'].apply(lambda x: f'{x[0:3]}')\n",
    "CID_2019 = CID_2019.loc[:,['Total']]\n",
    "CID_2019  = CID_2019.drop(CID_2019.loc[CID_2019['Total']=='Cap'].index)\n",
    "CID_2019['Classificação de causas'] = CID_2019['Total']"
   ]
  },
  {
   "cell_type": "markdown",
   "metadata": {},
   "source": [
    "Classificação de causas (coluna CAUSABAS)\n",
    "\n",
    "    - A00 ~ E99 --> doenças\n",
    "\n",
    "    - F00       --> Transtornos Mentais\n",
    "\n",
    "    - G00 ~ N99 --> doenças\n",
    "\n",
    "    - O00 ~ Q99 --> problemas na gestão/Parto e malformações\n",
    "\n",
    "    - R00       --> doenças\n",
    "\n",
    "    - S00 ~ T98 --> Consequências de causas externas (lesões/ traumatismos)\n",
    "\n",
    "    - U00 ~ Y98 --> Causas externas de morbidade e de mortalidade (acidente/agressao/intoxicação/falta de comida/falta de agua/queda/tiro)\n",
    "\n",
    "    - Z00 ~     --> doenças"
   ]
  },
  {
   "cell_type": "code",
   "execution_count": null,
   "metadata": {},
   "outputs": [],
   "source": [
    "CID_2019['Classificação de causas'] = CID_2019['Classificação de causas'].str.replace('[A-E].*', 'Doença')\n",
    "CID_2019['Classificação de causas'] = CID_2019['Classificação de causas'].str.replace('F.*', 'Transtornos Mentais')\n",
    "CID_2019['Classificação de causas'] = CID_2019['Classificação de causas'].str.replace('[G-N].*', 'Doença')\n",
    "CID_2019['Classificação de causas'] = CID_2019['Classificação de causas'].str.replace('[O-Q].*', 'problemas na gestão/Parto e malformações')\n",
    "CID_2019['Classificação de causas'] = CID_2019['Classificação de causas'].str.replace('R.*', 'Doença')\n",
    "CID_2019['Classificação de causas'] = CID_2019['Classificação de causas'].str.replace('[S-T].*', 'Consequências de causas externas (lesões/ traumatismos)')\n",
    "CID_2019['Classificação de causas'] = CID_2019['Classificação de causas'].str.replace('[U-Y].*', 'Causas externas de morbidade e de mortalidade (acidente/agressao)')\n",
    "CID_2019['Classificação de causas'] = CID_2019['Classificação de causas'].str.replace('Z.*', 'Doença')"
   ]
  },
  {
   "cell_type": "markdown",
   "metadata": {},
   "source": [
    "# Lendo Arquivo de Municípios/Estados para juntar com a tabela de mortalidade"
   ]
  },
  {
   "cell_type": "code",
   "execution_count": 32,
   "metadata": {},
   "outputs": [],
   "source": [
    "Municípios_Estados = pd.read_excel(r'C:\\Projeto Final\\data\\RELATORIO_DTB_BRASIL_MUNICIPIO.xls')"
   ]
  },
  {
   "cell_type": "markdown",
   "metadata": {},
   "source": [
    "somente as colunas que irão ser utilizadas para a análise"
   ]
  },
  {
   "cell_type": "code",
   "execution_count": 38,
   "metadata": {},
   "outputs": [
    {
     "data": {
      "text/plain": [
       "array([110005, 110002, 110004, 110006, 110001, 110003, 120001, 120002,\n",
       "       120004, 120005, 120003, 130005, 130006, 130004, 130003, 130009,\n",
       "       130001, 130002, 130010, 130008, 130007, 130011, 140001, 140002,\n",
       "       140004, 140003, 150003, 150009, 150001, 150020, 150014, 150015,\n",
       "       150019, 150018, 150005, 150007, 150016, 150011, 150012, 150006,\n",
       "       150021, 150002, 150010, 150008, 150004, 150017, 150013, 160003,\n",
       "       160004, 160001, 160002, 170003, 170008, 170010, 170011, 170005,\n",
       "       170001, 170009, 170007, 170006, 170002, 170004, 210021, 210013,\n",
       "       210007, 210001, 210010, 210009, 210022, 210011, 210019, 210004,\n",
       "       210003, 210008, 210020, 210005, 210002, 210017, 210006, 210012,\n",
       "       210014, 210015, 210018, 210016, 220010, 220002, 220009, 220001,\n",
       "       220016, 220013, 220018, 220004, 220017, 220003, 220015, 220005,\n",
       "       220008, 220012, 220006, 220007, 220019, 220011, 220014, 230012,\n",
       "       230003, 230017, 230009, 230011, 230015, 230007, 230002, 230005,\n",
       "       230001, 230008, 230013, 230014, 230010, 230006, 230018, 230004,\n",
       "       230016, 240008, 240011, 240010, 240009, 240003, 240006, 240001,\n",
       "       240005, 240007, 240004, 240002, 250009, 250010, 250005, 250002,\n",
       "       250001, 250008, 250014, 250003, 250006, 250011, 250015, 250012,\n",
       "       250007, 250004, 250013, 260001, 260014, 260015, 260009, 260003,\n",
       "       260010, 260012, 260002, 260018, 260016, 260011, 260007, 260017,\n",
       "       260013, 260004, 260006, 260008, 260005, 270009, 270004, 270007,\n",
       "       270006, 270001, 270011, 270008, 270005, 270002, 270010, 270003,\n",
       "       280003, 280001, 280002, 280004, 280006, 280005, 290013, 290024,\n",
       "       290002, 290027, 290029, 290012, 290008, 290007, 290003, 290020,\n",
       "       290011, 290031, 290023, 290018, 290033, 290010, 290006, 290025,\n",
       "       290021, 290014, 290009, 290017, 290034, 290016, 290004, 290030,\n",
       "       290005, 290001, 290022, 290019, 290026, 290032, 290028, 290015,\n",
       "       310061, 310070, 310028, 310030, 310024, 310014, 310055, 310048,\n",
       "       310019, 310018, 310023, 310054, 310053, 310050, 310036, 310042,\n",
       "       310037, 310015, 310020, 310041, 310025, 310016, 310051, 310027,\n",
       "       310031, 310002, 310017, 310059, 310033, 310062, 310065, 310056,\n",
       "       310044, 310066, 310032, 310063, 310013, 310004, 310003, 310026,\n",
       "       310001, 310038, 310008, 310035, 310046, 310006, 310067, 310005,\n",
       "       310043, 310069, 310009, 310029, 310052, 310010, 310060, 310034,\n",
       "       310045, 310021, 310049, 310058, 310012, 310022, 310011, 310057,\n",
       "       310039, 310040, 310064, 310068, 310047, 310007, 320002, 320006,\n",
       "       320005, 320008, 320001, 320004, 320007, 320003, 330002, 330012,\n",
       "       330013, 330007, 330004, 330001, 330008, 330011, 330003, 330010,\n",
       "       330014, 330009, 330005, 330006, 350019, 350025, 350044, 350048,\n",
       "       350007, 350040, 350009, 350006, 350018, 350031, 350023, 350003,\n",
       "       350027, 350013, 350038, 350036, 350046, 350024, 350011, 350052,\n",
       "       350028, 350004, 350022, 350035, 350053, 350045, 350016, 350026,\n",
       "       350001, 350014, 350041, 350010, 350005, 350032, 350015, 350002,\n",
       "       350039, 350049, 350047, 350012, 350021, 350050, 350051, 350008,\n",
       "       350042, 350033, 350037, 350020, 350043, 350029, 350017, 350034,\n",
       "       350030, 410022, 410001, 410015, 410016, 410017, 410021, 410009,\n",
       "       410006, 410014, 410002, 410003, 410023, 410027, 410025, 410008,\n",
       "       410024, 410012, 410005, 410010, 410004, 410018, 410019, 410026,\n",
       "       410028, 410013, 410011, 410029, 410007, 410020, 420008, 420011,\n",
       "       420022, 420007, 420001, 420010, 420009, 420005, 420019, 420016,\n",
       "       420004, 420003, 420015, 420020, 420002, 420017, 420012, 420021,\n",
       "       420006, 420014, 420018, 420013, 420024, 420023, 430010, 430032,\n",
       "       430011, 430018, 430019, 430015, 430023, 430028, 430035, 430025,\n",
       "       430036, 430001, 430005, 430029, 430038, 430043, 430002, 430026,\n",
       "       430041, 430009, 430008, 430042, 430031, 430003, 430037, 430021,\n",
       "       430033, 430027, 430039, 430022, 430007, 430006, 430012, 430013,\n",
       "       430030, 430040, 430014, 430034, 430024, 430020, 430004, 430017,\n",
       "       430016, 500002, 500004, 500009, 500012, 500007, 500008, 500003,\n",
       "       500001, 500011, 500005, 500010, 500006, 510001, 510015, 510010,\n",
       "       510016, 510014, 510003, 510013, 510006, 510009, 510002, 510004,\n",
       "       510005, 510007, 510018, 510011, 510008, 510012, 510017, 520001,\n",
       "       520002, 520015, 520003, 520022, 520008, 520020, 520007, 520017,\n",
       "       520021, 520014, 520004, 520010, 520011, 520005, 520013, 520018,\n",
       "       520016, 520019, 520009, 520012, 520006, 530001], dtype=int64)"
      ]
     },
     "execution_count": 38,
     "metadata": {},
     "output_type": "execute_result"
    }
   ],
   "source": [
    "Municípios_Estados['Região Geográfica Imediata'].unique()"
   ]
  },
  {
   "cell_type": "code",
   "execution_count": 40,
   "metadata": {},
   "outputs": [
    {
     "data": {
      "text/plain": [
       "array([290750, 421900, 420460, ..., 520120, 354180, 315380], dtype=int64)"
      ]
     },
     "execution_count": 40,
     "metadata": {},
     "output_type": "execute_result"
    }
   ],
   "source": [
    "Mortalidade_2019['CODMUNOCOR'].unique()"
   ]
  },
  {
   "cell_type": "code",
   "execution_count": 42,
   "metadata": {},
   "outputs": [
    {
     "data": {
      "text/html": [
       "<div>\n",
       "<style scoped>\n",
       "    .dataframe tbody tr th:only-of-type {\n",
       "        vertical-align: middle;\n",
       "    }\n",
       "\n",
       "    .dataframe tbody tr th {\n",
       "        vertical-align: top;\n",
       "    }\n",
       "\n",
       "    .dataframe thead th {\n",
       "        text-align: right;\n",
       "    }\n",
       "</style>\n",
       "<table border=\"1\" class=\"dataframe\">\n",
       "  <thead>\n",
       "    <tr style=\"text-align: right;\">\n",
       "      <th></th>\n",
       "      <th>UF</th>\n",
       "      <th>Nome_UF</th>\n",
       "      <th>Região Geográfica Intermediária</th>\n",
       "      <th>Nome Região Geográfica Intermediária</th>\n",
       "      <th>Região Geográfica Imediata</th>\n",
       "      <th>Nome Região Geográfica Imediata</th>\n",
       "      <th>Mesorregião Geográfica</th>\n",
       "      <th>Nome_Mesorregião</th>\n",
       "      <th>Microrregião Geográfica</th>\n",
       "      <th>Nome_Microrregião</th>\n",
       "      <th>Município</th>\n",
       "      <th>Código Município Completo</th>\n",
       "      <th>Nome_Município</th>\n",
       "    </tr>\n",
       "  </thead>\n",
       "  <tbody>\n",
       "  </tbody>\n",
       "</table>\n",
       "</div>"
      ],
      "text/plain": [
       "Empty DataFrame\n",
       "Columns: [UF, Nome_UF, Região Geográfica Intermediária, Nome Região Geográfica Intermediária, Região Geográfica Imediata, Nome Região Geográfica Imediata, Mesorregião Geográfica, Nome_Mesorregião, Microrregião Geográfica, Nome_Microrregião, Município, Código Município Completo, Nome_Município]\n",
       "Index: []"
      ]
     },
     "execution_count": 42,
     "metadata": {},
     "output_type": "execute_result"
    }
   ],
   "source": [
    "Municípios_Estados[Municípios_Estados['Região Geográfica Imediata']==290750]"
   ]
  },
  {
   "cell_type": "code",
   "execution_count": 30,
   "metadata": {},
   "outputs": [],
   "source": [
    "Municípios_Estados = Municípios_Estados.loc[:, ['Nome_UF', 'Região Geográfica Imediata']]"
   ]
  },
  {
   "cell_type": "code",
   "execution_count": 31,
   "metadata": {},
   "outputs": [
    {
     "data": {
      "text/html": [
       "<div>\n",
       "<style scoped>\n",
       "    .dataframe tbody tr th:only-of-type {\n",
       "        vertical-align: middle;\n",
       "    }\n",
       "\n",
       "    .dataframe tbody tr th {\n",
       "        vertical-align: top;\n",
       "    }\n",
       "\n",
       "    .dataframe thead th {\n",
       "        text-align: right;\n",
       "    }\n",
       "</style>\n",
       "<table border=\"1\" class=\"dataframe\">\n",
       "  <thead>\n",
       "    <tr style=\"text-align: right;\">\n",
       "      <th></th>\n",
       "      <th>Nome_UF</th>\n",
       "      <th>Região Geográfica Imediata</th>\n",
       "    </tr>\n",
       "  </thead>\n",
       "  <tbody>\n",
       "    <tr>\n",
       "      <th>0</th>\n",
       "      <td>Rondônia</td>\n",
       "      <td>110005</td>\n",
       "    </tr>\n",
       "    <tr>\n",
       "      <th>1</th>\n",
       "      <td>Rondônia</td>\n",
       "      <td>110005</td>\n",
       "    </tr>\n",
       "    <tr>\n",
       "      <th>2</th>\n",
       "      <td>Rondônia</td>\n",
       "      <td>110002</td>\n",
       "    </tr>\n",
       "    <tr>\n",
       "      <th>3</th>\n",
       "      <td>Rondônia</td>\n",
       "      <td>110004</td>\n",
       "    </tr>\n",
       "    <tr>\n",
       "      <th>4</th>\n",
       "      <td>Rondônia</td>\n",
       "      <td>110002</td>\n",
       "    </tr>\n",
       "    <tr>\n",
       "      <th>...</th>\n",
       "      <td>...</td>\n",
       "      <td>...</td>\n",
       "    </tr>\n",
       "    <tr>\n",
       "      <th>5565</th>\n",
       "      <td>Goiás</td>\n",
       "      <td>520002</td>\n",
       "    </tr>\n",
       "    <tr>\n",
       "      <th>5566</th>\n",
       "      <td>Goiás</td>\n",
       "      <td>520009</td>\n",
       "    </tr>\n",
       "    <tr>\n",
       "      <th>5567</th>\n",
       "      <td>Goiás</td>\n",
       "      <td>520022</td>\n",
       "    </tr>\n",
       "    <tr>\n",
       "      <th>5568</th>\n",
       "      <td>Goiás</td>\n",
       "      <td>520018</td>\n",
       "    </tr>\n",
       "    <tr>\n",
       "      <th>5569</th>\n",
       "      <td>Distrito Federal</td>\n",
       "      <td>530001</td>\n",
       "    </tr>\n",
       "  </tbody>\n",
       "</table>\n",
       "<p>5570 rows × 2 columns</p>\n",
       "</div>"
      ],
      "text/plain": [
       "               Nome_UF  Região Geográfica Imediata\n",
       "0             Rondônia                      110005\n",
       "1             Rondônia                      110005\n",
       "2             Rondônia                      110002\n",
       "3             Rondônia                      110004\n",
       "4             Rondônia                      110002\n",
       "...                ...                         ...\n",
       "5565             Goiás                      520002\n",
       "5566             Goiás                      520009\n",
       "5567             Goiás                      520022\n",
       "5568             Goiás                      520018\n",
       "5569  Distrito Federal                      530001\n",
       "\n",
       "[5570 rows x 2 columns]"
      ]
     },
     "execution_count": 31,
     "metadata": {},
     "output_type": "execute_result"
    }
   ],
   "source": [
    "Municípios_Estados"
   ]
  },
  {
   "cell_type": "markdown",
   "metadata": {},
   "source": [
    "# Juntando as Tabelas"
   ]
  },
  {
   "cell_type": "code",
   "execution_count": 28,
   "metadata": {},
   "outputs": [],
   "source": [
    "mortalidade_UF_2019 = pd.merge(Mortalidade_2019, Municípios_Estados, left_on = 'CODMUNOCOR', right_on ='Região Geográfica Imediata')"
   ]
  },
  {
   "cell_type": "code",
   "execution_count": 29,
   "metadata": {},
   "outputs": [
    {
     "data": {
      "text/html": [
       "<div>\n",
       "<style scoped>\n",
       "    .dataframe tbody tr th:only-of-type {\n",
       "        vertical-align: middle;\n",
       "    }\n",
       "\n",
       "    .dataframe tbody tr th {\n",
       "        vertical-align: top;\n",
       "    }\n",
       "\n",
       "    .dataframe thead th {\n",
       "        text-align: right;\n",
       "    }\n",
       "</style>\n",
       "<table border=\"1\" class=\"dataframe\">\n",
       "  <thead>\n",
       "    <tr style=\"text-align: right;\">\n",
       "      <th></th>\n",
       "      <th>DTOBITO</th>\n",
       "      <th>CODMUNOCOR</th>\n",
       "      <th>DTNASC</th>\n",
       "      <th>IDADE</th>\n",
       "      <th>SEXO</th>\n",
       "      <th>RACACOR</th>\n",
       "      <th>CAUSABAS</th>\n",
       "      <th>Classificação de causas</th>\n",
       "      <th>Nome_UF</th>\n",
       "      <th>Região Geográfica Imediata</th>\n",
       "    </tr>\n",
       "  </thead>\n",
       "  <tbody>\n",
       "    <tr>\n",
       "      <th>0</th>\n",
       "      <td>2019-01-29</td>\n",
       "      <td>350050</td>\n",
       "      <td>1970-01-01</td>\n",
       "      <td>41.0</td>\n",
       "      <td>1</td>\n",
       "      <td>1.0</td>\n",
       "      <td>I21</td>\n",
       "      <td>Doença</td>\n",
       "      <td>São Paulo</td>\n",
       "      <td>350050</td>\n",
       "    </tr>\n",
       "    <tr>\n",
       "      <th>1</th>\n",
       "      <td>2019-01-29</td>\n",
       "      <td>350050</td>\n",
       "      <td>1970-01-01</td>\n",
       "      <td>41.0</td>\n",
       "      <td>1</td>\n",
       "      <td>1.0</td>\n",
       "      <td>I21</td>\n",
       "      <td>Doença</td>\n",
       "      <td>São Paulo</td>\n",
       "      <td>350050</td>\n",
       "    </tr>\n",
       "    <tr>\n",
       "      <th>2</th>\n",
       "      <td>2019-01-29</td>\n",
       "      <td>350050</td>\n",
       "      <td>1970-01-01</td>\n",
       "      <td>41.0</td>\n",
       "      <td>1</td>\n",
       "      <td>1.0</td>\n",
       "      <td>I21</td>\n",
       "      <td>Doença</td>\n",
       "      <td>São Paulo</td>\n",
       "      <td>350050</td>\n",
       "    </tr>\n",
       "    <tr>\n",
       "      <th>3</th>\n",
       "      <td>2019-01-29</td>\n",
       "      <td>350050</td>\n",
       "      <td>1970-01-01</td>\n",
       "      <td>41.0</td>\n",
       "      <td>1</td>\n",
       "      <td>1.0</td>\n",
       "      <td>I21</td>\n",
       "      <td>Doença</td>\n",
       "      <td>São Paulo</td>\n",
       "      <td>350050</td>\n",
       "    </tr>\n",
       "    <tr>\n",
       "      <th>4</th>\n",
       "      <td>2019-01-29</td>\n",
       "      <td>350050</td>\n",
       "      <td>1970-01-01</td>\n",
       "      <td>41.0</td>\n",
       "      <td>1</td>\n",
       "      <td>1.0</td>\n",
       "      <td>I21</td>\n",
       "      <td>Doença</td>\n",
       "      <td>São Paulo</td>\n",
       "      <td>350050</td>\n",
       "    </tr>\n",
       "    <tr>\n",
       "      <th>...</th>\n",
       "      <td>...</td>\n",
       "      <td>...</td>\n",
       "      <td>...</td>\n",
       "      <td>...</td>\n",
       "      <td>...</td>\n",
       "      <td>...</td>\n",
       "      <td>...</td>\n",
       "      <td>...</td>\n",
       "      <td>...</td>\n",
       "      <td>...</td>\n",
       "    </tr>\n",
       "    <tr>\n",
       "      <th>87261</th>\n",
       "      <td>2019-07-12</td>\n",
       "      <td>420005</td>\n",
       "      <td>1970-01-01</td>\n",
       "      <td>84.0</td>\n",
       "      <td>2</td>\n",
       "      <td>1.0</td>\n",
       "      <td>I10</td>\n",
       "      <td>Doença</td>\n",
       "      <td>Santa Catarina</td>\n",
       "      <td>420005</td>\n",
       "    </tr>\n",
       "    <tr>\n",
       "      <th>87262</th>\n",
       "      <td>2019-07-12</td>\n",
       "      <td>420005</td>\n",
       "      <td>1970-01-01</td>\n",
       "      <td>84.0</td>\n",
       "      <td>2</td>\n",
       "      <td>1.0</td>\n",
       "      <td>I10</td>\n",
       "      <td>Doença</td>\n",
       "      <td>Santa Catarina</td>\n",
       "      <td>420005</td>\n",
       "    </tr>\n",
       "    <tr>\n",
       "      <th>87263</th>\n",
       "      <td>2019-07-12</td>\n",
       "      <td>420005</td>\n",
       "      <td>1970-01-01</td>\n",
       "      <td>84.0</td>\n",
       "      <td>2</td>\n",
       "      <td>1.0</td>\n",
       "      <td>I10</td>\n",
       "      <td>Doença</td>\n",
       "      <td>Santa Catarina</td>\n",
       "      <td>420005</td>\n",
       "    </tr>\n",
       "    <tr>\n",
       "      <th>87264</th>\n",
       "      <td>2019-07-12</td>\n",
       "      <td>420005</td>\n",
       "      <td>1970-01-01</td>\n",
       "      <td>84.0</td>\n",
       "      <td>2</td>\n",
       "      <td>1.0</td>\n",
       "      <td>I10</td>\n",
       "      <td>Doença</td>\n",
       "      <td>Santa Catarina</td>\n",
       "      <td>420005</td>\n",
       "    </tr>\n",
       "    <tr>\n",
       "      <th>87265</th>\n",
       "      <td>2019-07-12</td>\n",
       "      <td>420005</td>\n",
       "      <td>1970-01-01</td>\n",
       "      <td>84.0</td>\n",
       "      <td>2</td>\n",
       "      <td>1.0</td>\n",
       "      <td>I10</td>\n",
       "      <td>Doença</td>\n",
       "      <td>Santa Catarina</td>\n",
       "      <td>420005</td>\n",
       "    </tr>\n",
       "  </tbody>\n",
       "</table>\n",
       "<p>87266 rows × 10 columns</p>\n",
       "</div>"
      ],
      "text/plain": [
       "         DTOBITO  CODMUNOCOR     DTNASC  IDADE  SEXO  RACACOR CAUSABAS  \\\n",
       "0     2019-01-29      350050 1970-01-01   41.0     1      1.0      I21   \n",
       "1     2019-01-29      350050 1970-01-01   41.0     1      1.0      I21   \n",
       "2     2019-01-29      350050 1970-01-01   41.0     1      1.0      I21   \n",
       "3     2019-01-29      350050 1970-01-01   41.0     1      1.0      I21   \n",
       "4     2019-01-29      350050 1970-01-01   41.0     1      1.0      I21   \n",
       "...          ...         ...        ...    ...   ...      ...      ...   \n",
       "87261 2019-07-12      420005 1970-01-01   84.0     2      1.0      I10   \n",
       "87262 2019-07-12      420005 1970-01-01   84.0     2      1.0      I10   \n",
       "87263 2019-07-12      420005 1970-01-01   84.0     2      1.0      I10   \n",
       "87264 2019-07-12      420005 1970-01-01   84.0     2      1.0      I10   \n",
       "87265 2019-07-12      420005 1970-01-01   84.0     2      1.0      I10   \n",
       "\n",
       "      Classificação de causas         Nome_UF  Região Geográfica Imediata  \n",
       "0                      Doença       São Paulo                      350050  \n",
       "1                      Doença       São Paulo                      350050  \n",
       "2                      Doença       São Paulo                      350050  \n",
       "3                      Doença       São Paulo                      350050  \n",
       "4                      Doença       São Paulo                      350050  \n",
       "...                       ...             ...                         ...  \n",
       "87261                  Doença  Santa Catarina                      420005  \n",
       "87262                  Doença  Santa Catarina                      420005  \n",
       "87263                  Doença  Santa Catarina                      420005  \n",
       "87264                  Doença  Santa Catarina                      420005  \n",
       "87265                  Doença  Santa Catarina                      420005  \n",
       "\n",
       "[87266 rows x 10 columns]"
      ]
     },
     "execution_count": 29,
     "metadata": {},
     "output_type": "execute_result"
    }
   ],
   "source": [
    "mortalidade_UF_2019"
   ]
  },
  {
   "cell_type": "code",
   "execution_count": null,
   "metadata": {},
   "outputs": [],
   "source": []
  },
  {
   "cell_type": "code",
   "execution_count": 45,
   "metadata": {},
   "outputs": [],
   "source": [
    "Município_estabelecimento = pd.read_csv(r'C:\\Projeto Final\\data\\cadastro_estabelecimentos_cnes.csv', sep = ';')"
   ]
  },
  {
   "cell_type": "code",
   "execution_count": 48,
   "metadata": {},
   "outputs": [],
   "source": [
    "Município_estabelecimento = Município_estabelecimento.loc[:,['UF', 'IBGE']]"
   ]
  },
  {
   "cell_type": "code",
   "execution_count": 49,
   "metadata": {},
   "outputs": [
    {
     "data": {
      "text/html": [
       "<div>\n",
       "<style scoped>\n",
       "    .dataframe tbody tr th:only-of-type {\n",
       "        vertical-align: middle;\n",
       "    }\n",
       "\n",
       "    .dataframe tbody tr th {\n",
       "        vertical-align: top;\n",
       "    }\n",
       "\n",
       "    .dataframe thead th {\n",
       "        text-align: right;\n",
       "    }\n",
       "</style>\n",
       "<table border=\"1\" class=\"dataframe\">\n",
       "  <thead>\n",
       "    <tr style=\"text-align: right;\">\n",
       "      <th></th>\n",
       "      <th>UF</th>\n",
       "      <th>IBGE</th>\n",
       "    </tr>\n",
       "  </thead>\n",
       "  <tbody>\n",
       "    <tr>\n",
       "      <th>0</th>\n",
       "      <td>52</td>\n",
       "      <td>520170</td>\n",
       "    </tr>\n",
       "    <tr>\n",
       "      <th>1</th>\n",
       "      <td>26</td>\n",
       "      <td>260290</td>\n",
       "    </tr>\n",
       "    <tr>\n",
       "      <th>2</th>\n",
       "      <td>26</td>\n",
       "      <td>260290</td>\n",
       "    </tr>\n",
       "    <tr>\n",
       "      <th>3</th>\n",
       "      <td>26</td>\n",
       "      <td>260290</td>\n",
       "    </tr>\n",
       "    <tr>\n",
       "      <th>4</th>\n",
       "      <td>26</td>\n",
       "      <td>260290</td>\n",
       "    </tr>\n",
       "    <tr>\n",
       "      <th>...</th>\n",
       "      <td>...</td>\n",
       "      <td>...</td>\n",
       "    </tr>\n",
       "    <tr>\n",
       "      <th>42597</th>\n",
       "      <td>35</td>\n",
       "      <td>355030</td>\n",
       "    </tr>\n",
       "    <tr>\n",
       "      <th>42598</th>\n",
       "      <td>35</td>\n",
       "      <td>355030</td>\n",
       "    </tr>\n",
       "    <tr>\n",
       "      <th>42599</th>\n",
       "      <td>35</td>\n",
       "      <td>355030</td>\n",
       "    </tr>\n",
       "    <tr>\n",
       "      <th>42600</th>\n",
       "      <td>35</td>\n",
       "      <td>355030</td>\n",
       "    </tr>\n",
       "    <tr>\n",
       "      <th>42601</th>\n",
       "      <td>35</td>\n",
       "      <td>355220</td>\n",
       "    </tr>\n",
       "  </tbody>\n",
       "</table>\n",
       "<p>42602 rows × 2 columns</p>\n",
       "</div>"
      ],
      "text/plain": [
       "       UF    IBGE\n",
       "0      52  520170\n",
       "1      26  260290\n",
       "2      26  260290\n",
       "3      26  260290\n",
       "4      26  260290\n",
       "...    ..     ...\n",
       "42597  35  355030\n",
       "42598  35  355030\n",
       "42599  35  355030\n",
       "42600  35  355030\n",
       "42601  35  355220\n",
       "\n",
       "[42602 rows x 2 columns]"
      ]
     },
     "execution_count": 49,
     "metadata": {},
     "output_type": "execute_result"
    }
   ],
   "source": [
    "Município_estabelecimento"
   ]
  },
  {
   "cell_type": "code",
   "execution_count": 50,
   "metadata": {},
   "outputs": [],
   "source": [
    "mortalidade_UF_2019 = pd.merge(Mortalidade_2019, Município_estabelecimento, left_on = 'CODMUNOCOR', right_on ='IBGE')"
   ]
  },
  {
   "cell_type": "code",
   "execution_count": 51,
   "metadata": {},
   "outputs": [
    {
     "data": {
      "text/html": [
       "<div>\n",
       "<style scoped>\n",
       "    .dataframe tbody tr th:only-of-type {\n",
       "        vertical-align: middle;\n",
       "    }\n",
       "\n",
       "    .dataframe tbody tr th {\n",
       "        vertical-align: top;\n",
       "    }\n",
       "\n",
       "    .dataframe thead th {\n",
       "        text-align: right;\n",
       "    }\n",
       "</style>\n",
       "<table border=\"1\" class=\"dataframe\">\n",
       "  <thead>\n",
       "    <tr style=\"text-align: right;\">\n",
       "      <th></th>\n",
       "      <th>DTOBITO</th>\n",
       "      <th>CODMUNOCOR</th>\n",
       "      <th>DTNASC</th>\n",
       "      <th>IDADE</th>\n",
       "      <th>SEXO</th>\n",
       "      <th>RACACOR</th>\n",
       "      <th>CAUSABAS</th>\n",
       "      <th>Classificação de causas</th>\n",
       "      <th>UF</th>\n",
       "      <th>IBGE</th>\n",
       "    </tr>\n",
       "  </thead>\n",
       "  <tbody>\n",
       "    <tr>\n",
       "      <th>0</th>\n",
       "      <td>2019-01-21</td>\n",
       "      <td>290750</td>\n",
       "      <td>1970-01-01</td>\n",
       "      <td>57.0</td>\n",
       "      <td>1</td>\n",
       "      <td>2.0</td>\n",
       "      <td>I12</td>\n",
       "      <td>Doença</td>\n",
       "      <td>29</td>\n",
       "      <td>290750</td>\n",
       "    </tr>\n",
       "    <tr>\n",
       "      <th>1</th>\n",
       "      <td>2019-01-21</td>\n",
       "      <td>290750</td>\n",
       "      <td>1970-01-01</td>\n",
       "      <td>57.0</td>\n",
       "      <td>1</td>\n",
       "      <td>2.0</td>\n",
       "      <td>I12</td>\n",
       "      <td>Doença</td>\n",
       "      <td>29</td>\n",
       "      <td>290750</td>\n",
       "    </tr>\n",
       "    <tr>\n",
       "      <th>2</th>\n",
       "      <td>2019-01-21</td>\n",
       "      <td>290750</td>\n",
       "      <td>1970-01-01</td>\n",
       "      <td>57.0</td>\n",
       "      <td>1</td>\n",
       "      <td>2.0</td>\n",
       "      <td>I12</td>\n",
       "      <td>Doença</td>\n",
       "      <td>29</td>\n",
       "      <td>290750</td>\n",
       "    </tr>\n",
       "    <tr>\n",
       "      <th>3</th>\n",
       "      <td>2019-01-21</td>\n",
       "      <td>290750</td>\n",
       "      <td>1970-01-01</td>\n",
       "      <td>57.0</td>\n",
       "      <td>1</td>\n",
       "      <td>2.0</td>\n",
       "      <td>I12</td>\n",
       "      <td>Doença</td>\n",
       "      <td>29</td>\n",
       "      <td>290750</td>\n",
       "    </tr>\n",
       "    <tr>\n",
       "      <th>4</th>\n",
       "      <td>2019-01-21</td>\n",
       "      <td>290750</td>\n",
       "      <td>1970-01-01</td>\n",
       "      <td>57.0</td>\n",
       "      <td>1</td>\n",
       "      <td>2.0</td>\n",
       "      <td>I12</td>\n",
       "      <td>Doença</td>\n",
       "      <td>29</td>\n",
       "      <td>290750</td>\n",
       "    </tr>\n",
       "    <tr>\n",
       "      <th>...</th>\n",
       "      <td>...</td>\n",
       "      <td>...</td>\n",
       "      <td>...</td>\n",
       "      <td>...</td>\n",
       "      <td>...</td>\n",
       "      <td>...</td>\n",
       "      <td>...</td>\n",
       "      <td>...</td>\n",
       "      <td>...</td>\n",
       "      <td>...</td>\n",
       "    </tr>\n",
       "    <tr>\n",
       "      <th>138406249</th>\n",
       "      <td>2019-12-23</td>\n",
       "      <td>520120</td>\n",
       "      <td>1970-01-01</td>\n",
       "      <td>64.0</td>\n",
       "      <td>1</td>\n",
       "      <td>1.0</td>\n",
       "      <td>E14</td>\n",
       "      <td>Doença</td>\n",
       "      <td>52</td>\n",
       "      <td>520120</td>\n",
       "    </tr>\n",
       "    <tr>\n",
       "      <th>138406250</th>\n",
       "      <td>2019-02-26</td>\n",
       "      <td>354180</td>\n",
       "      <td>1970-01-01</td>\n",
       "      <td>62.0</td>\n",
       "      <td>2</td>\n",
       "      <td>4.0</td>\n",
       "      <td>J45</td>\n",
       "      <td>Doença</td>\n",
       "      <td>35</td>\n",
       "      <td>354180</td>\n",
       "    </tr>\n",
       "    <tr>\n",
       "      <th>138406251</th>\n",
       "      <td>2019-02-09</td>\n",
       "      <td>354180</td>\n",
       "      <td>1970-01-01</td>\n",
       "      <td>58.0</td>\n",
       "      <td>1</td>\n",
       "      <td>1.0</td>\n",
       "      <td>I21</td>\n",
       "      <td>Doença</td>\n",
       "      <td>35</td>\n",
       "      <td>354180</td>\n",
       "    </tr>\n",
       "    <tr>\n",
       "      <th>138406252</th>\n",
       "      <td>2019-06-23</td>\n",
       "      <td>315380</td>\n",
       "      <td>1970-01-01</td>\n",
       "      <td>53.0</td>\n",
       "      <td>1</td>\n",
       "      <td>1.0</td>\n",
       "      <td>V49</td>\n",
       "      <td>Causas externas de morbidade e de mortalidade ...</td>\n",
       "      <td>31</td>\n",
       "      <td>315380</td>\n",
       "    </tr>\n",
       "    <tr>\n",
       "      <th>138406253</th>\n",
       "      <td>2019-08-07</td>\n",
       "      <td>315380</td>\n",
       "      <td>1970-01-01</td>\n",
       "      <td>80.0</td>\n",
       "      <td>2</td>\n",
       "      <td>4.0</td>\n",
       "      <td>I10</td>\n",
       "      <td>Doença</td>\n",
       "      <td>31</td>\n",
       "      <td>315380</td>\n",
       "    </tr>\n",
       "  </tbody>\n",
       "</table>\n",
       "<p>138406254 rows × 10 columns</p>\n",
       "</div>"
      ],
      "text/plain": [
       "             DTOBITO  CODMUNOCOR     DTNASC  IDADE  SEXO  RACACOR CAUSABAS  \\\n",
       "0         2019-01-21      290750 1970-01-01   57.0     1      2.0      I12   \n",
       "1         2019-01-21      290750 1970-01-01   57.0     1      2.0      I12   \n",
       "2         2019-01-21      290750 1970-01-01   57.0     1      2.0      I12   \n",
       "3         2019-01-21      290750 1970-01-01   57.0     1      2.0      I12   \n",
       "4         2019-01-21      290750 1970-01-01   57.0     1      2.0      I12   \n",
       "...              ...         ...        ...    ...   ...      ...      ...   \n",
       "138406249 2019-12-23      520120 1970-01-01   64.0     1      1.0      E14   \n",
       "138406250 2019-02-26      354180 1970-01-01   62.0     2      4.0      J45   \n",
       "138406251 2019-02-09      354180 1970-01-01   58.0     1      1.0      I21   \n",
       "138406252 2019-06-23      315380 1970-01-01   53.0     1      1.0      V49   \n",
       "138406253 2019-08-07      315380 1970-01-01   80.0     2      4.0      I10   \n",
       "\n",
       "                                     Classificação de causas  UF    IBGE  \n",
       "0                                                     Doença  29  290750  \n",
       "1                                                     Doença  29  290750  \n",
       "2                                                     Doença  29  290750  \n",
       "3                                                     Doença  29  290750  \n",
       "4                                                     Doença  29  290750  \n",
       "...                                                      ...  ..     ...  \n",
       "138406249                                             Doença  52  520120  \n",
       "138406250                                             Doença  35  354180  \n",
       "138406251                                             Doença  35  354180  \n",
       "138406252  Causas externas de morbidade e de mortalidade ...  31  315380  \n",
       "138406253                                             Doença  31  315380  \n",
       "\n",
       "[138406254 rows x 10 columns]"
      ]
     },
     "execution_count": 51,
     "metadata": {},
     "output_type": "execute_result"
    }
   ],
   "source": [
    "mortalidade_UF_2019"
   ]
  },
  {
   "cell_type": "code",
   "execution_count": 60,
   "metadata": {},
   "outputs": [],
   "source": [
    "x = mortalidade_UF_2019.drop_duplicates"
   ]
  },
  {
   "cell_type": "code",
   "execution_count": 61,
   "metadata": {},
   "outputs": [
    {
     "data": {
      "text/plain": [
       "<bound method DataFrame.drop_duplicates of              DTOBITO  CODMUNOCOR     DTNASC  IDADE  SEXO  RACACOR CAUSABAS  \\\n",
       "0         2019-01-21      290750 1970-01-01   57.0     1      2.0      I12   \n",
       "1         2019-01-21      290750 1970-01-01   57.0     1      2.0      I12   \n",
       "2         2019-01-21      290750 1970-01-01   57.0     1      2.0      I12   \n",
       "3         2019-01-21      290750 1970-01-01   57.0     1      2.0      I12   \n",
       "4         2019-01-21      290750 1970-01-01   57.0     1      2.0      I12   \n",
       "...              ...         ...        ...    ...   ...      ...      ...   \n",
       "138406249 2019-12-23      520120 1970-01-01   64.0     1      1.0      E14   \n",
       "138406250 2019-02-26      354180 1970-01-01   62.0     2      4.0      J45   \n",
       "138406251 2019-02-09      354180 1970-01-01   58.0     1      1.0      I21   \n",
       "138406252 2019-06-23      315380 1970-01-01   53.0     1      1.0      V49   \n",
       "138406253 2019-08-07      315380 1970-01-01   80.0     2      4.0      I10   \n",
       "\n",
       "                                     Classificação de causas  UF    IBGE  \n",
       "0                                                     Doença  29  290750  \n",
       "1                                                     Doença  29  290750  \n",
       "2                                                     Doença  29  290750  \n",
       "3                                                     Doença  29  290750  \n",
       "4                                                     Doença  29  290750  \n",
       "...                                                      ...  ..     ...  \n",
       "138406249                                             Doença  52  520120  \n",
       "138406250                                             Doença  35  354180  \n",
       "138406251                                             Doença  35  354180  \n",
       "138406252  Causas externas de morbidade e de mortalidade ...  31  315380  \n",
       "138406253                                             Doença  31  315380  \n",
       "\n",
       "[138406254 rows x 10 columns]>"
      ]
     },
     "execution_count": 61,
     "metadata": {},
     "output_type": "execute_result"
    }
   ],
   "source": [
    "x"
   ]
  },
  {
   "cell_type": "code",
   "execution_count": null,
   "metadata": {},
   "outputs": [],
   "source": []
  }
 ],
 "metadata": {
  "interpreter": {
   "hash": "df0c761d1085a0714814de565803b55566ff6ed3425e378fe1584d694fe7171e"
  },
  "kernelspec": {
   "display_name": "Python 3.9.7 ('base')",
   "language": "python",
   "name": "python3"
  },
  "language_info": {
   "codemirror_mode": {
    "name": "ipython",
    "version": 3
   },
   "file_extension": ".py",
   "mimetype": "text/x-python",
   "name": "python",
   "nbconvert_exporter": "python",
   "pygments_lexer": "ipython3",
   "version": "3.9.7"
  },
  "orig_nbformat": 4
 },
 "nbformat": 4,
 "nbformat_minor": 2
}
