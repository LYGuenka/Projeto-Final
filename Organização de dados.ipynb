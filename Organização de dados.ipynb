{
 "cells": [
  {
   "cell_type": "markdown",
   "metadata": {},
   "source": [
    "# Importando as biblitecas"
   ]
  },
  {
   "cell_type": "code",
   "execution_count": null,
   "metadata": {},
   "outputs": [],
   "source": [
    "import pandas as pd\n",
    "import re\n",
    "import numpy as np"
   ]
  },
  {
   "cell_type": "markdown",
   "metadata": {},
   "source": [
    "# Lendo o arquivo de mortalidade"
   ]
  },
  {
   "cell_type": "code",
   "execution_count": null,
   "metadata": {},
   "outputs": [],
   "source": [
    "Mortalidade_2019 = pd.read_csv(r'C:\\Projeto Final\\data\\Mortalidade_Geral_2019.csv', sep = ';')"
   ]
  },
  {
   "cell_type": "markdown",
   "metadata": {},
   "source": [
    "# Verificando a tabela"
   ]
  },
  {
   "cell_type": "code",
   "execution_count": null,
   "metadata": {},
   "outputs": [],
   "source": [
    "Mortalidade_2019.head()"
   ]
  },
  {
   "cell_type": "code",
   "execution_count": null,
   "metadata": {},
   "outputs": [],
   "source": [
    "Mortalidade_2019.info()"
   ]
  },
  {
   "cell_type": "code",
   "execution_count": null,
   "metadata": {},
   "outputs": [],
   "source": [
    "Mortalidade_2019.columns"
   ]
  },
  {
   "cell_type": "markdown",
   "metadata": {},
   "source": [
    "# Fazendo Verificação e Limpeza da Tabela"
   ]
  },
  {
   "cell_type": "code",
   "execution_count": null,
   "metadata": {},
   "outputs": [],
   "source": [
    "Mortalidade_2019 = Mortalidade_2019.loc[:,['DTOBITO', 'CODMUNOCOR', 'DTNASC', 'IDADE', 'SEXO', 'RACACOR', 'CAUSABAS']]"
   ]
  },
  {
   "cell_type": "markdown",
   "metadata": {},
   "source": [
    "Vendo os gêneros que mais sofreram com as mortes"
   ]
  },
  {
   "cell_type": "code",
   "execution_count": 18,
   "metadata": {},
   "outputs": [
    {
     "data": {
      "text/plain": [
       "1    745519\n",
       "2    603725\n",
       "0       557\n",
       "Name: SEXO, dtype: int64"
      ]
     },
     "execution_count": 18,
     "metadata": {},
     "output_type": "execute_result"
    }
   ],
   "source": [
    "Mortalidade_2019['SEXO'].value_counts()"
   ]
  },
  {
   "cell_type": "code",
   "execution_count": null,
   "metadata": {},
   "outputs": [],
   "source": [
    "#Ao verificar que o Sexo que está igual a 1 possui maior valor, pode-se confirmar que são os homens, pois ao pesquisar sobre a mortalidade de gêneros, os homens são os que mais sofrem mortes"
   ]
  },
  {
   "cell_type": "markdown",
   "metadata": {},
   "source": [
    "Mudando o formato das datas da coluna de óbito e nascimento"
   ]
  },
  {
   "cell_type": "code",
   "execution_count": null,
   "metadata": {},
   "outputs": [],
   "source": [
    "Mortalidade_2019['DTOBITO'] = Mortalidade_2019['DTOBITO'].astype(str).str.zfill(8)                          # deixa todas as linhas com 8 números, alem de transformar em str\n",
    "Mortalidade_2019['DTOBITO'] = Mortalidade_2019['DTOBITO'].apply(lambda x: f'{x[0:2]}/{x[2:4]}/{x[4:]}')     # aplica '/' em todas as datas\n",
    "Mortalidade_2019['DTOBITO'] = pd.to_datetime(Mortalidade_2019['DTOBITO'])                                   # transforma em datetime"
   ]
  },
  {
   "cell_type": "code",
   "execution_count": null,
   "metadata": {},
   "outputs": [],
   "source": [
    "Mortalidade_2019['DTNASC'] = Mortalidade_2019['DTNASC'].fillna(0)                      #transforma nulo em zeros\n",
    "Mortalidade_2019['DTNASC'] = pd.to_datetime(Mortalidade_2019['DTNASC']).dt.date        #transforma em data\n",
    "Mortalidade_2019['DTNASC'] = pd.to_datetime(Mortalidade_2019['DTNASC'])"
   ]
  },
  {
   "cell_type": "markdown",
   "metadata": {},
   "source": [
    "Corrigindo a coluna de idade"
   ]
  },
  {
   "cell_type": "code",
   "execution_count": null,
   "metadata": {},
   "outputs": [],
   "source": [
    "Mortalidade_2019['IDADE'] = Mortalidade_2019['IDADE'].astype(str)\n",
    "\n",
    "def limpeza_idade(x):\n",
    "    if x.startswith('5') and len(x) == 3:\n",
    "        x_new_5 = re.sub(x[0], '1', x)\n",
    "        return f'{x_new_5[0:]}'\n",
    "\n",
    "    elif x.startswith('4') and len(x) == 3:\n",
    "        return f'{x[1:]}'\n",
    "\n",
    "    elif x.startswith('3') and len(x) == 3 or len(x) == 2:\n",
    "        x_new_3 = re.sub(x[0], '', x)\n",
    "        x_new_3\n",
    "        #x_new_3 = ('x_new_3' * 833334/100)\n",
    "        return #f'{x_new_3[0:]}'\n",
    "\n",
    "    elif x.startswith('2'):\n",
    "        x_new_2 = re.sub(x[0], '', x)\n",
    "        x_new_2\n",
    "        #x_new_2 = ('x_new_2' * 114155/10000)\n",
    "        return #f'{x_new_2[0:]}'\n",
    "\n",
    "    elif x.startswith('1'):\n",
    "        x_new_1 = re.sub(x[0], '', x)\n",
    "        x_new_1\n",
    "        #x_new_1 = ('x_new_1' * 1,90259/1000000)\n",
    "        return #f'{x_new_1[0:]}'\n",
    "\n",
    "Mortalidade_2019['IDADE'] = Mortalidade_2019['IDADE'].apply(limpeza_idade)"
   ]
  },
  {
   "cell_type": "markdown",
   "metadata": {},
   "source": [
    "### Classificação de causas (coluna CAUSABAS)\n",
    "\n",
    "    - A00 ~ 099 --> doença\n",
    "\n",
    "    - P00 ~ Q99 --> problemas na gestão/Parto\n",
    "\n",
    "    - R00 ~ T98 --> lesões e anomalidades\n",
    "\n",
    "    - U00 ~ Y98 --> Causas externas de morbidade e de mortalidade (acidente/agressao/intoxicação/falta de comida/falta de agua/queda/tiro)"
   ]
  },
  {
   "cell_type": "markdown",
   "metadata": {},
   "source": [
    "Arrumando a coluna de Causas para conectar a outra tabela"
   ]
  },
  {
   "cell_type": "code",
   "execution_count": 25,
   "metadata": {},
   "outputs": [],
   "source": [
    "Mortalidade_2019['CAUSABAS'] = Mortalidade_2019['CAUSABAS'].apply(lambda x: f'{x[0:3]}')"
   ]
  },
  {
   "cell_type": "code",
   "execution_count": null,
   "metadata": {},
   "outputs": [],
   "source": []
  }
 ],
 "metadata": {
  "interpreter": {
   "hash": "df0c761d1085a0714814de565803b55566ff6ed3425e378fe1584d694fe7171e"
  },
  "kernelspec": {
   "display_name": "Python 3.9.7 ('base')",
   "language": "python",
   "name": "python3"
  },
  "language_info": {
   "codemirror_mode": {
    "name": "ipython",
    "version": 3
   },
   "file_extension": ".py",
   "mimetype": "text/x-python",
   "name": "python",
   "nbconvert_exporter": "python",
   "pygments_lexer": "ipython3",
   "version": "3.8.12"
  },
  "orig_nbformat": 4
 },
 "nbformat": 4,
 "nbformat_minor": 2
}
